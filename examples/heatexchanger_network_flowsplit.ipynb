{
 "cells": [
  {
   "cell_type": "code",
   "execution_count": 233,
   "metadata": {},
   "outputs": [],
   "source": [
    "import sys\n",
    "sys.path.append('..')\n",
    "from exchanger.parts import *\n",
    "from exchanger.stream import *\n",
    "from exchanger.exchanger import*\n",
    "from exchanger.network import *\n",
    "import numpy as np"
   ]
  },
  {
   "cell_type": "code",
   "execution_count": 234,
   "metadata": {},
   "outputs": [
    {
     "data": {
      "text/plain": [
       "Flow: id = 2394258987408\n",
       "\tmass flow = 0.40000 kg/s\n",
       "\theat capacity flow: W_dot = 402.45761 W/K\n",
       "\theat flow: Q_dot = 0.00000 kW\n",
       "\n",
       "Input Fluid:\n",
       "\tFluid: title = Air, id = 2394268329168\n",
       "\tp = 101325 Pa\n",
       "\tt = 20.0 °C\n",
       "Output Fluid:\n",
       "\tFluid: title = Air, id = 2394268332624\n",
       "\tp = 101325 Pa\n",
       "\tt = 20.0 °C"
      ]
     },
     "execution_count": 234,
     "metadata": {},
     "output_type": "execute_result"
    }
   ],
   "source": [
    "flow_1 = Flow(Fluid(\"Air\"),mass_flow=0.4)\n",
    "flow_1\n"
   ]
  },
  {
   "cell_type": "code",
   "execution_count": 235,
   "metadata": {},
   "outputs": [
    {
     "data": {
      "text/plain": [
       "Flow: id = 2394268334608\n",
       "\tmass flow = 0.35000 kg/s\n",
       "\theat capacity flow: W_dot = 1475.48342 W/K\n",
       "\theat flow: Q_dot = 0.00000 kW\n",
       "\n",
       "Input Fluid:\n",
       "\tFluid: title = Water, id = 2394268329872\n",
       "\tp = 104325 Pa\n",
       "\tt = 100.0 °C\n",
       "Output Fluid:\n",
       "\tFluid: title = Water, id = 2394268334672\n",
       "\tp = 104325 Pa\n",
       "\tt = 100.0 °C"
      ]
     },
     "execution_count": 235,
     "metadata": {},
     "output_type": "execute_result"
    }
   ],
   "source": [
    "flow_2 = Flow(Fluid(\"Water\",pressure=104325, temperature=273.15+100),mass_flow=0.35)\n",
    "flow_2"
   ]
  },
  {
   "cell_type": "code",
   "execution_count": 236,
   "metadata": {},
   "outputs": [
    {
     "data": {
      "text/plain": [
       "Flow: id = 2394268330768\n",
       "\tmass flow = 0.20000 kg/s\n",
       "\theat capacity flow: W_dot = 852.69443 W/K\n",
       "\theat flow: Q_dot = 0.00000 kW\n",
       "\n",
       "Input Fluid:\n",
       "\tFluid: title = Water, id = 2394268335568\n",
       "\tp = 1000000.0 Pa\n",
       "\tt = 132.0 °C\n",
       "Output Fluid:\n",
       "\tFluid: title = Water, id = 2394268336080\n",
       "\tp = 1000000.0 Pa\n",
       "\tt = 132.0 °C"
      ]
     },
     "execution_count": 236,
     "metadata": {},
     "output_type": "execute_result"
    }
   ],
   "source": [
    "flow_3 = Flow(Fluid(\"Water\",pressure=10e5,temperature=273.15+132),mass_flow=0.2)\n",
    "flow_3"
   ]
  },
  {
   "cell_type": "code",
   "execution_count": 237,
   "metadata": {},
   "outputs": [
    {
     "data": {
      "text/plain": [
       "part:\n",
       "\t id = 2394268333392\n",
       "\t typ: Part\n",
       "\n",
       "geometric properties:\n",
       "\n",
       "hydraulic properties:\n",
       "\n",
       "thermic properties:\n",
       "\theat transferability: 500.000 W/K"
      ]
     },
     "execution_count": 237,
     "metadata": {},
     "output_type": "execute_result"
    }
   ],
   "source": [
    "part = Part(heat_transferability=500)\n",
    "part"
   ]
  },
  {
   "cell_type": "code",
   "execution_count": 238,
   "metadata": {},
   "outputs": [
    {
     "data": {
      "text/plain": [
       "\n",
       "heat exchanger:\n",
       "\tid = 2394268090704\n",
       "\ttype: CounterCurrentFlow\n",
       "Flows:\n",
       "Flow 1:\n",
       "Flow: id = 2394258987408\n",
       "\tmass flow = 0.35922 kg/s\n",
       "\theat capacity flow: W_dot = 361.95085 W/K\n",
       "\theat flow: Q_dot = -24.03508 kW\n",
       "\n",
       "Input Fluid:\n",
       "\tFluid: title = Air, id = 2394268329168\n",
       "\tp = 101325 Pa\n",
       "\tt = 20.0 °C\n",
       "Output Fluid:\n",
       "\tFluid: title = Air, id = 2394268332624\n",
       "\tp = 101325 Pa\n",
       "\tt = 86.39423854906175 °C\n",
       "\n",
       "Flow 2:\n",
       "Flow: id = 2394268334608\n",
       "\tmass flow = 0.35208 kg/s\n",
       "\theat capacity flow: W_dot = 1481.18545 W/K\n",
       "\theat flow: Q_dot = 24.03275 kW\n",
       "\n",
       "Input Fluid:\n",
       "\tFluid: title = Water, id = 2394268329872\n",
       "\tp = 104325 Pa\n",
       "\tt = 100.0 °C\n",
       "Output Fluid:\n",
       "\tFluid: title = Water, id = 2394268334672\n",
       "\tp = 104325 Pa\n",
       "\tt = 83.77552477447784 °C\n",
       "\n",
       "Parameters:\n",
       "\n",
       "dimensionless parameters:\n",
       "number of transfer units:\n",
       "\tNTU_1 = 2.044\n",
       "\tNTU_2 = 0.500\n",
       "heat capacity flow ratios:\n",
       "\tR_1 = 0.244\n",
       "\tR_2 = 4.092\n",
       "dimensionless temperature change:\n",
       "\tP_1 = 0.830\n",
       "\tP_2 = 0.203"
      ]
     },
     "execution_count": 238,
     "metadata": {},
     "output_type": "execute_result"
    }
   ],
   "source": [
    "ex1 = CounterCurrentFlow(flow_1,flow_2)\n",
    "ex1.heat_transferability =740\n",
    "ex1"
   ]
  },
  {
   "cell_type": "code",
   "execution_count": 239,
   "metadata": {},
   "outputs": [
    {
     "data": {
      "text/plain": [
       "\n",
       "heat exchanger:\n",
       "\tid = 2394268317264\n",
       "\ttype: CounterCurrentFlow\n",
       "Flows:\n",
       "Flow 1:\n",
       "Flow: id = 2394268307792\n",
       "\tmass flow = 0.35032 kg/s\n",
       "\theat capacity flow: W_dot = 1476.34556 W/K\n",
       "\theat flow: Q_dot = 3.62169 kW\n",
       "\n",
       "Input Fluid:\n",
       "\tFluid: title = Water, id = 2394268311120\n",
       "\tp = 104325 Pa\n",
       "\tt = 100.0 °C\n",
       "Output Fluid:\n",
       "\tFluid: title = Water, id = 2394268313040\n",
       "\tp = 104325 Pa\n",
       "\tt = 97.54686053721923 °C\n",
       "\n",
       "Flow 2:\n",
       "Flow: id = 2394268309072\n",
       "\tmass flow = 0.29501 kg/s\n",
       "\theat capacity flow: W_dot = 298.10993 W/K\n",
       "\theat flow: Q_dot = -3.62170 kW\n",
       "\n",
       "Input Fluid:\n",
       "\tFluid: title = Air, id = 2394268307152\n",
       "\tp = 101325 Pa\n",
       "\tt = 86.30000000000001 °C\n",
       "Output Fluid:\n",
       "\tFluid: title = Air, id = 2394268307216\n",
       "\tp = 101325 Pa\n",
       "\tt = 98.44881230598742 °C\n",
       "\n",
       "Parameters:\n",
       "\n",
       "dimensionless parameters:\n",
       "number of transfer units:\n",
       "\tNTU_1 = 0.501\n",
       "\tNTU_2 = 2.482\n",
       "heat capacity flow ratios:\n",
       "\tR_1 = 4.952\n",
       "\tR_2 = 0.202\n",
       "dimensionless temperature change:\n",
       "\tP_1 = 0.179\n",
       "\tP_2 = 0.887"
      ]
     },
     "execution_count": 239,
     "metadata": {},
     "output_type": "execute_result"
    }
   ],
   "source": [
    "flow_1 =Flow(Fluid(\"Water\",pressure=104325, temperature=273.15+100),mass_flow=0.35)\n",
    "flow_2 =Flow(Fluid(\"Air\",temperature=273.15+86.3),mass_flow=0.4*0.75)\n",
    "ex2 = CounterCurrentFlow(flow_1,flow_2)\n",
    "ex2.heat_transferability =740\n",
    "ex2"
   ]
  },
  {
   "cell_type": "code",
   "execution_count": 240,
   "metadata": {},
   "outputs": [
    {
     "data": {
      "text/plain": [
       "\n",
       "heat exchanger:\n",
       "\tid = 2394268283984\n",
       "\ttype: CounterCurrentFlow\n",
       "Flows:\n",
       "Flow 1:\n",
       "Flow: id = 2394268246864\n",
       "\tmass flow = 0.35996 kg/s\n",
       "\theat capacity flow: W_dot = 362.68355 W/K\n",
       "\theat flow: Q_dot = -23.59725 kW\n",
       "\n",
       "Input Fluid:\n",
       "\tFluid: title = Air, id = 2394191897360\n",
       "\tp = 101325 Pa\n",
       "\tt = 20.0 °C\n",
       "Output Fluid:\n",
       "\tFluid: title = Air, id = 2394268248592\n",
       "\tp = 101325 Pa\n",
       "\tt = 85.05349368748142 °C\n",
       "\n",
       "Flow 2:\n",
       "Flow: id = 2394268284304\n",
       "\tmass flow = 0.35202 kg/s\n",
       "\theat capacity flow: W_dot = 1480.45728 W/K\n",
       "\theat flow: Q_dot = 23.59504 kW\n",
       "\n",
       "Input Fluid:\n",
       "\tFluid: title = Water, id = 2394268249296\n",
       "\tp = 104325 Pa\n",
       "\tt = 98.44799999999998 °C\n",
       "Output Fluid:\n",
       "\tFluid: title = Water, id = 2394268274000\n",
       "\tp = 104325 Pa\n",
       "\tt = 82.51114217578629 °C\n",
       "\n",
       "Parameters:\n",
       "\n",
       "dimensionless parameters:\n",
       "number of transfer units:\n",
       "\tNTU_1 = 2.040\n",
       "\tNTU_2 = 0.500\n",
       "heat capacity flow ratios:\n",
       "\tR_1 = 0.245\n",
       "\tR_2 = 4.082\n",
       "dimensionless temperature change:\n",
       "\tP_1 = 0.829\n",
       "\tP_2 = 0.203"
      ]
     },
     "execution_count": 240,
     "metadata": {},
     "output_type": "execute_result"
    }
   ],
   "source": [
    "flow_1 =Flow(Fluid(\"Air\",temperature=273.15+20),mass_flow=0.4)\n",
    "flow_2 =Flow(Fluid(\"Water\",pressure=104325, temperature=273.15+98.448),mass_flow=0.35)\n",
    "ex1 = CounterCurrentFlow(flow_1,flow_2)\n",
    "ex1.heat_transferability =740\n",
    "ex1"
   ]
  },
  {
   "cell_type": "code",
   "execution_count": 241,
   "metadata": {},
   "outputs": [
    {
     "data": {
      "text/plain": [
       "\n",
       "heat exchanger:\n",
       "\tid = 2394268283344\n",
       "\ttype: CounterCurrentFlow\n",
       "Flows:\n",
       "Flow 1:\n",
       "Flow: id = 2394268282768\n",
       "\tmass flow = 0.35035 kg/s\n",
       "\theat capacity flow: W_dot = 1476.42291 W/K\n",
       "\theat flow: Q_dot = 3.94677 kW\n",
       "\n",
       "Input Fluid:\n",
       "\tFluid: title = Water, id = 2394268329680\n",
       "\tp = 104325 Pa\n",
       "\tt = 100.0 °C\n",
       "Output Fluid:\n",
       "\tFluid: title = Water, id = 2394268282704\n",
       "\tp = 104325 Pa\n",
       "\tt = 97.32680455329859 °C\n",
       "\n",
       "Flow 2:\n",
       "Flow: id = 2394268282960\n",
       "\tmass flow = 0.29454 kg/s\n",
       "\theat capacity flow: W_dot = 297.61911 W/K\n",
       "\theat flow: Q_dot = -3.94679 kW\n",
       "\n",
       "Input Fluid:\n",
       "\tFluid: title = Air, id = 2394268275792\n",
       "\tp = 101325 Pa\n",
       "\tt = 85.053 °C\n",
       "Output Fluid:\n",
       "\tFluid: title = Air, id = 2394268273232\n",
       "\tp = 101325 Pa\n",
       "\tt = 98.31413426538893 °C\n",
       "\n",
       "Parameters:\n",
       "\n",
       "dimensionless parameters:\n",
       "number of transfer units:\n",
       "\tNTU_1 = 0.501\n",
       "\tNTU_2 = 2.486\n",
       "heat capacity flow ratios:\n",
       "\tR_1 = 4.961\n",
       "\tR_2 = 0.202\n",
       "dimensionless temperature change:\n",
       "\tP_1 = 0.179\n",
       "\tP_2 = 0.887"
      ]
     },
     "execution_count": 241,
     "metadata": {},
     "output_type": "execute_result"
    }
   ],
   "source": [
    "flow_1 =Flow(Fluid(\"Water\",pressure=104325, temperature=273.15+100),mass_flow=0.35)\n",
    "flow_2 =Flow(Fluid(\"Air\",temperature=273.15+85.053),mass_flow=0.4*0.75)\n",
    "ex2 = CounterCurrentFlow(flow_1,flow_2)\n",
    "ex2.heat_transferability =740\n",
    "ex2"
   ]
  },
  {
   "cell_type": "code",
   "execution_count": 242,
   "metadata": {},
   "outputs": [
    {
     "data": {
      "text/plain": [
       "\n",
       "heat exchanger:\n",
       "\tid = 2394268110352\n",
       "\ttype: CounterCurrentFlow\n",
       "Flows:\n",
       "Flow 1:\n",
       "Flow: id = 2394268109456\n",
       "\tmass flow = 0.09467 kg/s\n",
       "\theat capacity flow: W_dot = 95.77936 W/K\n",
       "\theat flow: Q_dot = -3.86029 kW\n",
       "\n",
       "Input Fluid:\n",
       "\tFluid: title = Air, id = 2394268112016\n",
       "\tp = 101325 Pa\n",
       "\tt = 85.053 °C\n",
       "Output Fluid:\n",
       "\tFluid: title = Air, id = 2394268111056\n",
       "\tp = 101325 Pa\n",
       "\tt = 125.35469761894677 °C\n",
       "\n",
       "Flow 2:\n",
       "Flow: id = 2394268107728\n",
       "\tmass flow = 0.20041 kg/s\n",
       "\theat capacity flow: W_dot = 853.56189 W/K\n",
       "\theat flow: Q_dot = 3.86010 kW\n",
       "\n",
       "Input Fluid:\n",
       "\tFluid: title = Water, id = 2394268111376\n",
       "\tp = 1000000.0 Pa\n",
       "\tt = 132.0 °C\n",
       "Output Fluid:\n",
       "\tFluid: title = Water, id = 2394268107920\n",
       "\tp = 1000000.0 Pa\n",
       "\tt = 127.477690793448 °C\n",
       "\n",
       "Parameters:\n",
       "\n",
       "dimensionless parameters:\n",
       "number of transfer units:\n",
       "\tNTU_1 = 2.088\n",
       "\tNTU_2 = 0.234\n",
       "heat capacity flow ratios:\n",
       "\tR_1 = 0.112\n",
       "\tR_2 = 8.912\n",
       "dimensionless temperature change:\n",
       "\tP_1 = 0.858\n",
       "\tP_2 = 0.096"
      ]
     },
     "execution_count": 242,
     "metadata": {},
     "output_type": "execute_result"
    }
   ],
   "source": [
    "flow_1 =Flow(Fluid(\"Air\",temperature=273.15+85.053),mass_flow=0.4*0.25)\n",
    "flow_2 =Flow(Fluid(\"Water\",pressure=10e5,temperature=273.15+132),mass_flow=0.2)\n",
    "\n",
    "ex3 = CounterCurrentFlow(flow_1,flow_2)\n",
    "ex3.heat_transferability =200\n",
    "ex3"
   ]
  },
  {
   "cell_type": "code",
   "execution_count": 243,
   "metadata": {},
   "outputs": [
    {
     "data": {
      "text/plain": [
       "105.07425"
      ]
     },
     "execution_count": 243,
     "metadata": {},
     "output_type": "execute_result"
    }
   ],
   "source": [
    "m1 = 0.3\n",
    "m2 = 0.1\n",
    "t1 = 98.314\n",
    "t2=125.355\n",
    "\n",
    "Tm = (t2+t1*m1/m2)/(m1/m2+1)\n",
    "Tm"
   ]
  },
  {
   "cell_type": "code",
   "execution_count": 244,
   "metadata": {},
   "outputs": [
    {
     "data": {
      "text/plain": [
       "\n",
       "heat exchanger:\n",
       "\tid = 2394268115152\n",
       "\ttype: CounterCurrentFlow\n",
       "Flows:\n",
       "Flow 1:\n",
       "Flow: id = 2394268113936\n",
       "\tmass flow = 0.39487 kg/s\n",
       "\theat capacity flow: W_dot = 399.70643 W/K\n",
       "\theat flow: Q_dot = -3.92215 kW\n",
       "\n",
       "Input Fluid:\n",
       "\tFluid: title = Air, id = 2394268111888\n",
       "\tp = 101325 Pa\n",
       "\tt = 105.07 °C\n",
       "Output Fluid:\n",
       "\tFluid: title = Air, id = 2394268114576\n",
       "\tp = 101325 Pa\n",
       "\tt = 114.88255254194416 °C\n",
       "\n",
       "Flow 2:\n",
       "Flow: id = 2394268115280\n",
       "\tmass flow = 0.20042 kg/s\n",
       "\theat capacity flow: W_dot = 853.57589 W/K\n",
       "\theat flow: Q_dot = 3.92217 kW\n",
       "\n",
       "Input Fluid:\n",
       "\tFluid: title = Water, id = 2394268110416\n",
       "\tp = 1000000.0 Pa\n",
       "\tt = 132.0 °C\n",
       "Output Fluid:\n",
       "\tFluid: title = Water, id = 2394268115216\n",
       "\tp = 1000000.0 Pa\n",
       "\tt = 127.40504792038945 °C\n",
       "\n",
       "Parameters:\n",
       "\n",
       "dimensionless parameters:\n",
       "number of transfer units:\n",
       "\tNTU_1 = 0.500\n",
       "\tNTU_2 = 0.234\n",
       "heat capacity flow ratios:\n",
       "\tR_1 = 0.468\n",
       "\tR_2 = 2.136\n",
       "dimensionless temperature change:\n",
       "\tP_1 = 0.364\n",
       "\tP_2 = 0.171"
      ]
     },
     "execution_count": 244,
     "metadata": {},
     "output_type": "execute_result"
    }
   ],
   "source": [
    "flow_1 =Flow(Fluid(\"Air\",temperature=273.15+105.07),mass_flow=0.4)\n",
    "flow_2 =Flow(Fluid(\"Water\",pressure=10e5,temperature=273.15+132),mass_flow=0.2)\n",
    "\n",
    "ex3 = CounterCurrentFlow(flow_1,flow_2)\n",
    "ex3.heat_transferability =200\n",
    "ex3"
   ]
  },
  {
   "cell_type": "code",
   "execution_count": 245,
   "metadata": {},
   "outputs": [
    {
     "data": {
      "text/plain": [
       "\n",
       "heat exchanger:\n",
       "\tid = 2394268117712\n",
       "\ttype: CounterCurrentFlow\n",
       "Flows:\n",
       "Flow 1:\n",
       "Flow: id = 2394268115024\n",
       "\tmass flow = 0.09517 kg/s\n",
       "\theat capacity flow: W_dot = 96.27084 W/K\n",
       "\theat flow: Q_dot = -3.49415 kW\n",
       "\n",
       "Input Fluid:\n",
       "\tFluid: title = Air, id = 2394268324112\n",
       "\tp = 101325 Pa\n",
       "\tt = 85.053 °C\n",
       "Output Fluid:\n",
       "\tFluid: title = Air, id = 2394268116688\n",
       "\tp = 101325 Pa\n",
       "\tt = 121.34635898085833 °C\n",
       "\n",
       "Flow 2:\n",
       "Flow: id = 2394268117520\n",
       "\tmass flow = 0.20037 kg/s\n",
       "\theat capacity flow: W_dot = 851.70330 W/K\n",
       "\theat flow: Q_dot = 3.49401 kW\n",
       "\n",
       "Input Fluid:\n",
       "\tFluid: title = Water, id = 2394268117136\n",
       "\tp = 1000000.0 Pa\n",
       "\tt = 127.40499999999997 °C\n",
       "Output Fluid:\n",
       "\tFluid: title = Water, id = 2394268115600\n",
       "\tp = 1000000.0 Pa\n",
       "\tt = 123.30264158540854 °C\n",
       "\n",
       "Parameters:\n",
       "\n",
       "dimensionless parameters:\n",
       "number of transfer units:\n",
       "\tNTU_1 = 2.077\n",
       "\tNTU_2 = 0.235\n",
       "heat capacity flow ratios:\n",
       "\tR_1 = 0.113\n",
       "\tR_2 = 8.847\n",
       "dimensionless temperature change:\n",
       "\tP_1 = 0.857\n",
       "\tP_2 = 0.097"
      ]
     },
     "execution_count": 245,
     "metadata": {},
     "output_type": "execute_result"
    }
   ],
   "source": [
    "flow_1 =Flow(Fluid(\"Air\",temperature=273.15+85.053),mass_flow=0.4*0.25)\n",
    "flow_2 =Flow(Fluid(\"Water\",pressure=10e5,temperature=273.15+127.405),mass_flow=0.2)\n",
    "\n",
    "ex3 = CounterCurrentFlow(flow_1,flow_2)\n",
    "ex3.heat_transferability =200\n",
    "ex3"
   ]
  },
  {
   "cell_type": "code",
   "execution_count": 246,
   "metadata": {},
   "outputs": [
    {
     "data": {
      "text/plain": [
       "104.0705"
      ]
     },
     "execution_count": 246,
     "metadata": {},
     "output_type": "execute_result"
    }
   ],
   "source": [
    "m1 = 0.3\n",
    "m2 = 0.1\n",
    "t1 = 98.314\n",
    "t2=121.34\n",
    "\n",
    "Tm = (t2+t1*m1/m2)/(m1/m2+1)\n",
    "Tm"
   ]
  },
  {
   "cell_type": "code",
   "execution_count": 247,
   "metadata": {},
   "outputs": [
    {
     "data": {
      "text/plain": [
       "\n",
       "heat exchanger:\n",
       "\tid = 2394268120848\n",
       "\ttype: CounterCurrentFlow\n",
       "Flows:\n",
       "Flow 1:\n",
       "Flow: id = 2394268119952\n",
       "\tmass flow = 0.39467 kg/s\n",
       "\theat capacity flow: W_dot = 399.46564 W/K\n",
       "\theat flow: Q_dot = -4.06732 kW\n",
       "\n",
       "Input Fluid:\n",
       "\tFluid: title = Air, id = 2394267896016\n",
       "\tp = 101325 Pa\n",
       "\tt = 104.07 °C\n",
       "Output Fluid:\n",
       "\tFluid: title = Air, id = 2394268119696\n",
       "\tp = 101325 Pa\n",
       "\tt = 114.25187269642805 °C\n",
       "\n",
       "Flow 2:\n",
       "Flow: id = 2394268120592\n",
       "\tmass flow = 0.20044 kg/s\n",
       "\theat capacity flow: W_dot = 853.60864 W/K\n",
       "\theat flow: Q_dot = 4.06734 kW\n",
       "\n",
       "Input Fluid:\n",
       "\tFluid: title = Water, id = 2394268120272\n",
       "\tp = 1000000.0 Pa\n",
       "\tt = 132.0 °C\n",
       "Output Fluid:\n",
       "\tFluid: title = Water, id = 2394268120336\n",
       "\tp = 1000000.0 Pa\n",
       "\tt = 127.23516037227517 °C\n",
       "\n",
       "Parameters:\n",
       "\n",
       "dimensionless parameters:\n",
       "number of transfer units:\n",
       "\tNTU_1 = 0.501\n",
       "\tNTU_2 = 0.234\n",
       "heat capacity flow ratios:\n",
       "\tR_1 = 0.468\n",
       "\tR_2 = 2.137\n",
       "dimensionless temperature change:\n",
       "\tP_1 = 0.365\n",
       "\tP_2 = 0.171"
      ]
     },
     "execution_count": 247,
     "metadata": {},
     "output_type": "execute_result"
    }
   ],
   "source": [
    "flow_1 =Flow(Fluid(\"Air\",temperature=273.15+104.07),mass_flow=0.4)\n",
    "flow_2 =Flow(Fluid(\"Water\",pressure=10e5,temperature=273.15+132),mass_flow=0.2)\n",
    "\n",
    "ex3 = CounterCurrentFlow(flow_1,flow_2)\n",
    "ex3.heat_transferability =200\n",
    "ex3"
   ]
  },
  {
   "cell_type": "markdown",
   "metadata": {},
   "source": [
    "## Test Network"
   ]
  },
  {
   "cell_type": "code",
   "execution_count": 248,
   "metadata": {},
   "outputs": [],
   "source": [
    "flow_1 = Flow(Fluid(\"Water\",pressure=104325, temperature=273.15+100),mass_flow=0.35)\n",
    "flow_2 = Flow(Fluid(\"Water\",pressure=10e5,temperature=273.15+132),mass_flow=0.2)\n",
    "flow_3 = Flow(Fluid(\"Air\"),mass_flow=0.4) "
   ]
  },
  {
   "cell_type": "code",
   "execution_count": 249,
   "metadata": {},
   "outputs": [],
   "source": [
    "flows = [flow_1, flow_2, flow_3]\n",
    "network = ExchangerNetwork(flows)\n",
    "network.phi_matrix = np.array([[0.171, 0., 0., 0., 0.829, 0., 0., 0.],\n",
    "                               [0., 0.821, 0., 0., 0., 0.179, 0., 0.],\n",
    "                                [0., 0., 0.143, 0., 0., 0., 0.857, 0.],\n",
    "                                [0., 0., 0., 0.635, 0., 0., 0., 0.365],\n",
    "                                       [0.203, 0., 0., 0., 1-0.203, 0., 0., 0.],\n",
    "                                       [0., 0.887, 0., 0., 0., 1-0.887, 0., 0.],\n",
    "                                       [0., 0., 0.097, 0., 0., 0., 1-0.097, 0.],\n",
    "                                       [0., 0., 0., 0.171, 0., 0., 0., 1-0.171]])\n",
    "network.structure_matrix = np.array([[0., 1., 0., 0., 0., 0., 0., 0.],\n",
    "                                             [0., 0., 0., 0., 0., 0., 0., 0.],\n",
    "                                             [0., 0., 0., 1., 0., 0., 0., 0.],\n",
    "                                             [0., 0., 0., 0., 0., 0., 0., 0.],\n",
    "                                             [0., 0., 0., 0., 0., 0., 0., 0.],\n",
    "                                             [0., 0., 0., 0., 0.75, 0., 0., 0.],\n",
    "                                             [0., 0., 0., 0., 0.25, 0., 0., 0.],\n",
    "                                             [0., 0., 0., 0., 0., 1, 1, 0.]])\n",
    "network.input_matrix = np.array([[0, 0, 0],\n",
    "                                         [1, 0, 0],\n",
    "                                         [0, 0, 0],\n",
    "                                         [0, 1, 0],\n",
    "                                         [0, 0, 1],\n",
    "                                         [0, 0, 0],\n",
    "                                         [0, 0, 0],\n",
    "                                         [0, 0, 0]])\n",
    "network.output_matrix = np.asarray([[1, 0, 0, 0, 0, 0, 0, 0],\n",
    "                                            [0, 0, 1, 0, 0, 0, 0, 0],\n",
    "                                            [0, 0, 0, 0, 0, 0, 0, 1]])"
   ]
  },
  {
   "cell_type": "code",
   "execution_count": 250,
   "metadata": {},
   "outputs": [
    {
     "data": {
      "text/plain": [
       "array([[ 31.54593858],\n",
       "       [ 37.55007771],\n",
       "       [109.72353361]])"
      ]
     },
     "execution_count": 250,
     "metadata": {},
     "output_type": "execute_result"
    }
   ],
   "source": [
    "network.temperature_outputs[1]-273.15"
   ]
  },
  {
   "cell_type": "code",
   "execution_count": 251,
   "metadata": {},
   "outputs": [
    {
     "data": {
      "text/plain": [
       "309.0"
      ]
     },
     "metadata": {},
     "output_type": "display_data"
    },
    {
     "data": {
      "text/plain": [
       "341.0"
      ]
     },
     "metadata": {},
     "output_type": "display_data"
    }
   ],
   "source": [
    "# Ex1\n",
    "temp_1_in = 373\n",
    "temp_2_in = 293\n",
    "p1, p2 = 0.8,0.6\n",
    "temp_1_out = -p1 * (temp_1_in - temp_2_in) + temp_1_in\n",
    "temp_2_out = p2 * (temp_1_in - temp_2_in) + temp_2_in\n",
    "display(temp_1_out,temp_2_out)"
   ]
  },
  {
   "cell_type": "code",
   "execution_count": 253,
   "metadata": {},
   "outputs": [
    {
     "data": {
      "text/plain": [
       "353.8"
      ]
     },
     "metadata": {},
     "output_type": "display_data"
    },
    {
     "data": {
      "text/plain": [
       "360.2"
      ]
     },
     "metadata": {},
     "output_type": "display_data"
    }
   ],
   "source": [
    "# Ex2\n",
    "temp_1_in = 373\n",
    "temp_2_in = 341\n",
    "p1, p2 = 0.6,0.6\n",
    "temp_1_out = -p1 * (temp_1_in - temp_2_in) + temp_1_in\n",
    "temp_2_out = p2 * (temp_1_in - temp_2_in) + temp_2_in\n",
    "display(temp_1_out,temp_2_out)"
   ]
  },
  {
   "cell_type": "code",
   "execution_count": 254,
   "metadata": {},
   "outputs": [
    {
     "data": {
      "text/plain": [
       "305.15999999999997"
      ]
     },
     "metadata": {},
     "output_type": "display_data"
    },
    {
     "data": {
      "text/plain": [
       "329.48"
      ]
     },
     "metadata": {},
     "output_type": "display_data"
    }
   ],
   "source": [
    "# Ex1\n",
    "temp_1_in = 353.8\n",
    "temp_2_in = 293\n",
    "p1, p2 = 0.8,0.6\n",
    "temp_1_out = -p1 * (temp_1_in - temp_2_in) + temp_1_in\n",
    "temp_2_out = p2 * (temp_1_in - temp_2_in) + temp_2_in\n",
    "display(temp_1_out,temp_2_out)"
   ]
  },
  {
   "cell_type": "code",
   "execution_count": 255,
   "metadata": {},
   "outputs": [
    {
     "data": {
      "text/plain": [
       "346.88800000000003"
      ]
     },
     "metadata": {},
     "output_type": "display_data"
    },
    {
     "data": {
      "text/plain": [
       "355.592"
      ]
     },
     "metadata": {},
     "output_type": "display_data"
    }
   ],
   "source": [
    "# Ex2\n",
    "temp_1_in = 373\n",
    "temp_2_in = 329.48\n",
    "p1, p2 = 0.6,0.6\n",
    "temp_1_out = -p1 * (temp_1_in - temp_2_in) + temp_1_in\n",
    "temp_2_out = p2 * (temp_1_in - temp_2_in) + temp_2_in\n",
    "display(temp_1_out,temp_2_out)"
   ]
  },
  {
   "cell_type": "code",
   "execution_count": 256,
   "metadata": {},
   "outputs": [
    {
     "data": {
      "text/plain": [
       "347.6048"
      ]
     },
     "metadata": {},
     "output_type": "display_data"
    },
    {
     "data": {
      "text/plain": [
       "386.8752"
      ]
     },
     "metadata": {},
     "output_type": "display_data"
    }
   ],
   "source": [
    "# Ex3\n",
    "temp_1_in = 405\n",
    "temp_2_in = 329.48\n",
    "p1, p2 = 0.76,0.76\n",
    "temp_1_out = -p1 * (temp_1_in - temp_2_in) + temp_1_in\n",
    "temp_2_out = p2 * (temp_1_in - temp_2_in) + temp_2_in\n",
    "display(temp_1_out,temp_2_out)"
   ]
  },
  {
   "cell_type": "code",
   "execution_count": 258,
   "metadata": {},
   "outputs": [
    {
     "data": {
      "text/plain": [
       "363.4115"
      ]
     },
     "metadata": {},
     "output_type": "display_data"
    },
    {
     "data": {
      "text/plain": [
       "378.38336"
      ]
     },
     "metadata": {},
     "output_type": "display_data"
    },
    {
     "data": {
      "text/plain": [
       "370.06566"
      ]
     },
     "metadata": {},
     "output_type": "display_data"
    }
   ],
   "source": [
    "# Ex4\n",
    "\n",
    "m1 = 0.3\n",
    "m2 = 0.1\n",
    "tex2 = 355.592\n",
    "tex3= 386.87\n",
    "\n",
    "temp_2_in = (tex3+tex2*m1/m2)/(m1/m2+1)\n",
    "display(temp_2_in)\n",
    "\n",
    "temp_1_in = 405\n",
    "p1, p2 = 0.64,0.16\n",
    "temp_1_out = -p1 * (temp_1_in - temp_2_in) + temp_1_in\n",
    "temp_2_out = p2 * (temp_1_in - temp_2_in) + temp_2_in\n",
    "display(temp_1_out,temp_2_out)"
   ]
  },
  {
   "cell_type": "code",
   "execution_count": 259,
   "metadata": {},
   "outputs": [
    {
     "data": {
      "text/plain": [
       "341.216"
      ]
     },
     "metadata": {},
     "output_type": "display_data"
    },
    {
     "data": {
      "text/plain": [
       "366.644"
      ]
     },
     "metadata": {},
     "output_type": "display_data"
    }
   ],
   "source": [
    "# Ex3\n",
    "temp_1_in = 378.38\n",
    "temp_2_in = 329.48\n",
    "p1, p2 = 0.76,0.76\n",
    "temp_1_out = -p1 * (temp_1_in - temp_2_in) + temp_1_in\n",
    "temp_2_out = p2 * (temp_1_in - temp_2_in) + temp_2_in\n",
    "display(temp_1_out,temp_2_out)"
   ]
  },
  {
   "cell_type": "code",
   "execution_count": 260,
   "metadata": {},
   "outputs": [
    {
     "data": {
      "text/plain": [
       "358.355"
      ]
     },
     "metadata": {},
     "output_type": "display_data"
    },
    {
     "data": {
      "text/plain": [
       "375.1472"
      ]
     },
     "metadata": {},
     "output_type": "display_data"
    },
    {
     "data": {
      "text/plain": [
       "365.8182"
      ]
     },
     "metadata": {},
     "output_type": "display_data"
    }
   ],
   "source": [
    "# Ex4\n",
    "\n",
    "m1 = 0.3\n",
    "m2 = 0.1\n",
    "tex2 = 355.592\n",
    "tex3= 366.644\n",
    "\n",
    "temp_2_in = (tex3+tex2*m1/m2)/(m1/m2+1)\n",
    "display(temp_2_in)\n",
    "\n",
    "temp_1_in = 405\n",
    "p1, p2 = 0.64,0.16\n",
    "temp_1_out = -p1 * (temp_1_in - temp_2_in) + temp_1_in\n",
    "temp_2_out = p2 * (temp_1_in - temp_2_in) + temp_2_in\n",
    "display(temp_1_out,temp_2_out)"
   ]
  },
  {
   "cell_type": "code",
   "execution_count": 261,
   "metadata": {},
   "outputs": [
    {
     "data": {
      "text/plain": [
       "340.4384"
      ]
     },
     "metadata": {},
     "output_type": "display_data"
    },
    {
     "data": {
      "text/plain": [
       "364.1816"
      ]
     },
     "metadata": {},
     "output_type": "display_data"
    }
   ],
   "source": [
    "# Ex3\n",
    "temp_1_in = 375.14\n",
    "temp_2_in = 329.48\n",
    "p1, p2 = 0.76,0.76\n",
    "temp_1_out = -p1 * (temp_1_in - temp_2_in) + temp_1_in\n",
    "temp_2_out = p2 * (temp_1_in - temp_2_in) + temp_2_in\n",
    "display(temp_1_out,temp_2_out)"
   ]
  },
  {
   "cell_type": "code",
   "execution_count": 262,
   "metadata": {},
   "outputs": [
    {
     "data": {
      "text/plain": [
       "357.73900000000003"
      ]
     },
     "metadata": {},
     "output_type": "display_data"
    },
    {
     "data": {
      "text/plain": [
       "374.75296000000003"
      ]
     },
     "metadata": {},
     "output_type": "display_data"
    },
    {
     "data": {
      "text/plain": [
       "365.30076"
      ]
     },
     "metadata": {},
     "output_type": "display_data"
    }
   ],
   "source": [
    "# Ex4\n",
    "\n",
    "m1 = 0.3\n",
    "m2 = 0.1\n",
    "tex2 = 355.592\n",
    "tex3= 364.18\n",
    "\n",
    "temp_2_in = (tex3+tex2*m1/m2)/(m1/m2+1)\n",
    "display(temp_2_in)\n",
    "\n",
    "temp_1_in = 405\n",
    "p1, p2 = 0.64,0.16\n",
    "temp_1_out = -p1 * (temp_1_in - temp_2_in) + temp_1_in\n",
    "temp_2_out = p2 * (temp_1_in - temp_2_in) + temp_2_in\n",
    "display(temp_1_out,temp_2_out)"
   ]
  }
 ],
 "metadata": {
  "kernelspec": {
   "display_name": "env_bachelorarbeit",
   "language": "python",
   "name": "python3"
  },
  "language_info": {
   "codemirror_mode": {
    "name": "ipython",
    "version": 3
   },
   "file_extension": ".py",
   "mimetype": "text/x-python",
   "name": "python",
   "nbconvert_exporter": "python",
   "pygments_lexer": "ipython3",
   "version": "3.11.4"
  },
  "orig_nbformat": 4
 },
 "nbformat": 4,
 "nbformat_minor": 2
}
