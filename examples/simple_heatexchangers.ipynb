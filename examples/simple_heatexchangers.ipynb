{
 "cells": [
  {
   "cell_type": "code",
   "execution_count": 69,
   "metadata": {},
   "outputs": [],
   "source": [
    "import sys\n",
    "sys.path.append('..')\n",
    "from exchanger.parts import *\n",
    "from exchanger.stream import *\n",
    "from exchanger.exchanger import*"
   ]
  },
  {
   "cell_type": "markdown",
   "metadata": {},
   "source": [
    "Ein Rohrbundelwärmeubertrager mit einem äußeren und drei inneren Durchgängen (davon zwei im Gegenstrom) soll nachgerechnet werden. \n",
    "Folgende Daten zu den Fluidströmen sind bekannt:\n",
    "\n",
    "Außenstrom:\n",
    "+ Fluid: Luft\n",
    "+ Massenstrom: $0,4 kg/s$\n",
    "+ Eintrittstemperatur: $20 °C$\n",
    "+ Druck: $1 atm$\n",
    "\n",
    "Innenstrom:\n",
    "+ Fluid: Wasser\n",
    "+ Massenstrom: $0,15 kg/s$\n",
    "+ Eintrittstemperatur: 105 °C\n",
    "+ Druck: $5 bar$"
   ]
  },
  {
   "cell_type": "markdown",
   "metadata": {},
   "source": [
    "Zunächst werden die Ströme definiert. Dabei wird der Austrittsstrom zunächst mit der gleichen Temperatur wie am Eintritt definiert. Somit ergebn sich auch die mittleren Fluidparameter mit den Eintrittsdaten. Da in späterer folge Austrittstemperaturen angepasst werden und damit mehrere Interationen mit den mittleren Temperaturen durchgeführt werden sind die anfänglichen Abweichungen der Materialparamter nicht problematisch."
   ]
  },
  {
   "cell_type": "code",
   "execution_count": 70,
   "metadata": {},
   "outputs": [
    {
     "data": {
      "text/plain": [
       "Flow: id = 1697856177360\n",
       "\tmass flow = 0.40000 kg/s\n",
       "\theat capacity flow: W_dot = 402.45761 W/K\n",
       "\theat flow: Q_dot = 0.00000 kW\n",
       "\n",
       "Input Fluid:\n",
       "\tFluid: title = Air, id = 1697856206288\n",
       "\tp = 101325 Pa\n",
       "\tt = 20.0 °C\n",
       "Output Fluid:\n",
       "\tFluid: title = Air, id = 1697856192080\n",
       "\tp = 101325 Pa\n",
       "\tt = 20.0 °C"
      ]
     },
     "execution_count": 70,
     "metadata": {},
     "output_type": "execute_result"
    }
   ],
   "source": [
    "# defining outside flow\n",
    "flow_outside = Flow(Fluid(\"Air\",temperature = 20+273.15),mass_flow=0.4)\n",
    "flow_outside\n"
   ]
  },
  {
   "cell_type": "code",
   "execution_count": 71,
   "metadata": {},
   "outputs": [
    {
     "data": {
      "text/plain": [
       "Flow: id = 1697856344400\n",
       "\tmass flow = 0.15000 kg/s\n",
       "\theat capacity flow: W_dot = 633.12137 W/K\n",
       "\theat flow: Q_dot = 0.00000 kW\n",
       "\n",
       "Input Fluid:\n",
       "\tFluid: title = Water, id = 1697855319376\n",
       "\tp = 500000.0 Pa\n",
       "\tt = 105.0 °C\n",
       "Output Fluid:\n",
       "\tFluid: title = Water, id = 1697856344272\n",
       "\tp = 500000.0 Pa\n",
       "\tt = 105.0 °C"
      ]
     },
     "execution_count": 71,
     "metadata": {},
     "output_type": "execute_result"
    }
   ],
   "source": [
    "# defining inside flow\n",
    "flow_inside = Flow(Fluid(\"Water\",pressure=5e5,temperature=105+273.15),mass_flow=0.15)\n",
    "flow_inside"
   ]
  },
  {
   "cell_type": "markdown",
   "metadata": {},
   "source": [
    "Vom Aufbau des Wärmeübertragers sind folgende Daten bekannt.\n",
    "\n",
    "Der Innenstrom ist auf $n = 20$ Rohrleitungen (Innendurchmesser $D_i = 8 mm$, Wandstärke $s = 2 mm$) aufgeteilt, welche in zwei Schichten versetzt angeordnet sind. Die Rohre haben außen kleine Strukturen, um bei der Umströmung eine turbulente Grenzschicht zu gewährleisten. Die folgenden weiteren Daten zur Geometrie sind bekannt (vgl. dazu die Skizzen in Abbildung):\n",
    "\n",
    "+ $B = 0,35 m$\n",
    "+ $H = 0,18 m$\n",
    "+ $L_M = 1,0 m$\n",
    "+ $L_E = 41 mm$\n",
    "+ $d = 48.mm$\n",
    "\n",
    "<img src=\"./images/simpleHeatexchanger.PNG\" alt=\"heat_exchanger_geometrie\" width=\"450\" height=\"300\">\n",
    "\n",
    "Dadurch ist der verfügbare Bauraum zur Gänze ausgenutzt.\n",
    "\n",
    "Der Wärmedurchgangskoezienten wird mit $k=35$ abgeschätzt."
   ]
  },
  {
   "cell_type": "code",
   "execution_count": 72,
   "metadata": {},
   "outputs": [
    {
     "data": {
      "text/plain": [
       "part:\n",
       "\t id = 1697856238032\n",
       "\t typ: PipeLayout\n",
       "\n",
       "geometric properties:\n",
       "\tpipe type: StraightPipe\n",
       "\tlength = 3.23280 m\n",
       "\tdiameter: in = 0.01190 m, out = 0.01200 m\n",
       "\tnumber of pipes: 20\n",
       "\tpipe pattern: square\n",
       "\n",
       "hydraulic properties:\n",
       "\tflow area = 0.002224 m^2\n",
       "\n",
       "thermic properties:\n",
       "\theat transferability: 84.956 W/K\n",
       "\theat transfer area: 2.4273 m^2\n",
       "\theat transfer coefficient: 35.00 W/(m^2 K)"
      ]
     },
     "execution_count": 72,
     "metadata": {},
     "output_type": "execute_result"
    }
   ],
   "source": [
    "l_m,l_e,d = 1,41e-3,48e-3\n",
    "length = 3*l_m+2*l_e +d*pi\n",
    "\n",
    "pipe = StraightPipe(diameter_in=11.9e-3,diameter_out=12e-3,length=length)\n",
    "pipe_layout = PipeLayout(pipe,20)\n",
    "pipe_layout.heat_transfer_coefficient = 35\n",
    "pipe_layout"
   ]
  },
  {
   "cell_type": "markdown",
   "metadata": {},
   "source": [
    "Mit obigen Paramtern ergibt sich - nach fünf iterationen in denen die Fluidparameter angepasst werden - für einen Rohrbündelwärmeübertrager mit einem äußern und drei inneren durchgängen (zwei im Gegenstrom):"
   ]
  },
  {
   "cell_type": "code",
   "execution_count": 73,
   "metadata": {},
   "outputs": [
    {
     "data": {
      "text/plain": [
       "\n",
       "heat exchanger:\n",
       "\tid = 1697856322000\n",
       "\ttype: OneOuterThreeInnerTwoCounterflow\n",
       "Flows:\n",
       "Flow 1:\n",
       "Flow: id = 1697856177360\n",
       "\tmass flow = 0.38960 kg/s\n",
       "\theat capacity flow: W_dot = 392.09788 W/K\n",
       "\theat flow: Q_dot = -6.11901 kW\n",
       "\n",
       "Input Fluid:\n",
       "\tFluid: title = Air, id = 1697856206288\n",
       "\tp = 101325 Pa\n",
       "\tt = 20.0 °C\n",
       "Output Fluid:\n",
       "\tFluid: title = Air, id = 1697856192080\n",
       "\tp = 101325 Pa\n",
       "\tt = 35.605706717043915 °C\n",
       "\n",
       "Flow 2:\n",
       "Flow: id = 1697856344400\n",
       "\tmass flow = 0.15055 kg/s\n",
       "\theat capacity flow: W_dot = 634.57660 W/K\n",
       "\theat flow: Q_dot = 6.11909 kW\n",
       "\n",
       "Input Fluid:\n",
       "\tFluid: title = Water, id = 1697855319376\n",
       "\tp = 500000.0 Pa\n",
       "\tt = 105.0 °C\n",
       "Output Fluid:\n",
       "\tFluid: title = Water, id = 1697856344272\n",
       "\tp = 500000.0 Pa\n",
       "\tt = 95.35740581452308 °C\n",
       "\n",
       "Parameters:\n",
       "\n",
       "dimensionless parameters:\n",
       "number of transfer units:\n",
       "\tNTU_1 = 0.217\n",
       "\tNTU_2 = 0.134\n",
       "heat capacity flow ratios:\n",
       "\tR_1 = 0.618\n",
       "\tR_2 = 1.618\n",
       "dimensionless temperature change:\n",
       "\tP_1 = 0.184\n",
       "\tP_2 = 0.113"
      ]
     },
     "execution_count": 73,
     "metadata": {},
     "output_type": "execute_result"
    }
   ],
   "source": [
    "ex = OneOuterThreeInnerTwoCounterflow(flow_outside,flow_inside,pipe_layout)\n",
    "ex"
   ]
  },
  {
   "cell_type": "markdown",
   "metadata": {},
   "source": [
    "Ein Wärmeübertrager mit reinem Gegenstrom und gleicher Wärmeübertragungsfähigkeit würde im gegeben Fall zu einer nahezu gleichen Austrittstemperatur führen.\n",
    "\n",
    "Beim erhöhen der Übertragungsfähigkeit würde der Gegenstrom Wärmeübertrager einen besseren Wirkungsgrad ergeben. "
   ]
  },
  {
   "cell_type": "code",
   "execution_count": 74,
   "metadata": {},
   "outputs": [
    {
     "data": {
      "text/plain": [
       "\n",
       "heat exchanger:\n",
       "\tid = 1697856242960\n",
       "\ttype: CounterCurrentFlow\n",
       "Flows:\n",
       "Flow 1:\n",
       "Flow: id = 1697856177360\n",
       "\tmass flow = 0.38956 kg/s\n",
       "\theat capacity flow: W_dot = 392.06020 W/K\n",
       "\theat flow: Q_dot = -6.14130 kW\n",
       "\n",
       "Input Fluid:\n",
       "\tFluid: title = Air, id = 1697856206288\n",
       "\tp = 101325 Pa\n",
       "\tt = 20.0 °C\n",
       "Output Fluid:\n",
       "\tFluid: title = Air, id = 1697856192080\n",
       "\tp = 101325 Pa\n",
       "\tt = 35.66405423629652 °C\n",
       "\n",
       "Flow 2:\n",
       "Flow: id = 1697856344400\n",
       "\tmass flow = 0.15056 kg/s\n",
       "\theat capacity flow: W_dot = 634.58189 W/K\n",
       "\theat flow: Q_dot = 6.14138 kW\n",
       "\n",
       "Input Fluid:\n",
       "\tFluid: title = Water, id = 1697855319376\n",
       "\tp = 500000.0 Pa\n",
       "\tt = 105.0 °C\n",
       "Output Fluid:\n",
       "\tFluid: title = Water, id = 1697856344272\n",
       "\tp = 500000.0 Pa\n",
       "\tt = 95.32236458886882 °C\n",
       "\n",
       "Parameters:\n",
       "\n",
       "dimensionless parameters:\n",
       "number of transfer units:\n",
       "\tNTU_1 = 0.217\n",
       "\tNTU_2 = 0.134\n",
       "heat capacity flow ratios:\n",
       "\tR_1 = 0.618\n",
       "\tR_2 = 1.619\n",
       "dimensionless temperature change:\n",
       "\tP_1 = 0.184\n",
       "\tP_2 = 0.114"
      ]
     },
     "execution_count": 74,
     "metadata": {},
     "output_type": "execute_result"
    }
   ],
   "source": [
    "ex = CounterCurrentFlow(flow_outside,flow_inside,pipe_layout)\n",
    "ex"
   ]
  }
 ],
 "metadata": {
  "kernelspec": {
   "display_name": "env_bachelorarbeit",
   "language": "python",
   "name": "python3"
  },
  "language_info": {
   "codemirror_mode": {
    "name": "ipython",
    "version": 3
   },
   "file_extension": ".py",
   "mimetype": "text/x-python",
   "name": "python",
   "nbconvert_exporter": "python",
   "pygments_lexer": "ipython3",
   "version": "3.11.4"
  },
  "orig_nbformat": 4
 },
 "nbformat": 4,
 "nbformat_minor": 2
}
