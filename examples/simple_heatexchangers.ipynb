{
 "cells": [
  {
   "cell_type": "code",
   "execution_count": 13,
   "metadata": {},
   "outputs": [],
   "source": [
    "import sys\n",
    "sys.path.append('..')\n",
    "from exchanger.parts import *\n",
    "from exchanger.stream import *\n",
    "from exchanger.exchanger import*"
   ]
  },
  {
   "cell_type": "markdown",
   "metadata": {},
   "source": [
    "Über das Konfigurationsfile `pyfluids.json` kann das Einheitensystem (für die Fluiddaten) festgelegt werden. Standartmäßg werden alle Daten in SI-Einheiten definiert und verarbeitet."
   ]
  },
  {
   "cell_type": "markdown",
   "metadata": {},
   "source": [
    "# Bsp Rohrbündelwärmeübertrager\n",
    "### Angabe\n",
    "Ein Rohrbundelwärmeubertrager mit einem äußeren und drei inneren Durchgängen (davon zwei im Gegenstrom) soll nachgerechnet werden. \n",
    "Folgende Daten zu den Fluidströmen sind bekannt:\n",
    "\n",
    "Außenstrom:\n",
    "+ Fluid: Luft\n",
    "+ Massenstrom: $0,4$ kg/s\n",
    "+ Eintrittstemperatur: $20$ °C\n",
    "+ Druck: $1$ atm\n",
    "\n",
    "Innenstrom:\n",
    "+ Fluid: Wasser\n",
    "+ Massenstrom: $0,15$ kg/s\n",
    "+ Eintrittstemperatur: $105$ °C\n",
    "+ Druck: $5$ bar"
   ]
  },
  {
   "cell_type": "markdown",
   "metadata": {},
   "source": [
    "### Strömungsdaten\n",
    "Zunächst werden die Ströme definiert. Dabei wird der Austrittsstrom zunächst bei derselben Temperatur wie am Eintritt festgelegt. Dadurch ergeben sich auch die mittleren Fluidparameter basierend auf den Eintrittsdaten. Da in späteren Schritten die Austrittstemperaturen angepasst werden und somit mehrere Iterationen mit den mittleren Temperaturen durchgeführt werden, sind anfängliche Abweichungen der Materialparameter nicht problematisch."
   ]
  },
  {
   "cell_type": "markdown",
   "metadata": {},
   "source": [
    "## Implementierung\n",
    "\n",
    "Ein Fluidstrom der Klasse `Flow` wird über ein Fluid und einen Durchsatz definiert. Der Durchsatz kann entweder über den Massenstrom `mass_flow` oder Volumenstrom `volume_flow` festgelegt werden. Die Fluidinstanz wird durch die Klasse `Fluid` initialisiert. Dazu sind einerseits der Fluidname - dieser muss in der Fluidliste des Moduls `pyfluids` hinterlegt sein - sowie der Zustand erforderlich. Standardmäßig wird der Zustand mit der Methode `ntp_state` auf NTP (Normal Temperature and Pressure) festgelegt. Über die Eigenschaften `temperature` und `pressure` kann der Zustand angepasst werden.\n",
    "\n",
    "Die Implementierung eines Fluidstroms erfolgt durch einen Volumenstrom - dabei wird angenommen, dass der Strömungsquerschnitt konstant ist - sowie einem Fluid am Ein- und Auslass. Die Initialisierung über den Konstruktor legt das Eintrittsfluid fest. Weiterhin wird der Volumenstrom festgelegt oder, sofern der Massenstrom initialisiert wird, basierend auf den Daten des Eintrittsfluids berechnet. Das Austrittsfluid wird zunächst als Klon des Eintrittsfluids definiert. Die Fluidstrom-Kennzahlen wie Wärmekapazitätstrom, Massenstrom und Änderung des Wärmestroms werden mit den Daten des Fluidobjekts `mean_fluid` berechnet und über gemittelte Zustandsdaten definiert.\n",
    "\n",
    "Standardmäßig sind daher die Fluidparameter am Ein- und Auslass sowie die gemittelten Parameter gleich, und die Änderung des Wärmestroms (`heat_flow`) beträgt 0. Wenn die Austrittstemperatur (`out_temperature`) geändert oder ein Druckverlust (`pressure_loss`) definiert wird, werden auch die entsprechenden Parameter angepasst. Die Variable `phase_change` wird verwendet, um zu überprüfen, ob sich die Phase zwischen Ein- und Auslass ändert. Ist dies der Fall, sollte die Änderung des Wärmestroms in der aktuellen Implementierung nicht mehr für weitere Berechnungen verwendet werden.\n"
   ]
  },
  {
   "cell_type": "code",
   "execution_count": 14,
   "metadata": {},
   "outputs": [
    {
     "data": {
      "text/plain": [
       "Flow: id = 2521142047760\n",
       "\tmass flow = 0.40000 kg/s\n",
       "\theat capacity flow: W_dot = 402.45761 W/K\n",
       "\theat flow: Q_dot = 0.00000 kW\n",
       "\n",
       "Input Fluid:\n",
       "\tFluid: title = Air, id = 2521142192784\n",
       "\tp = 101325 Pa\n",
       "\tt = 20.0 °C\n",
       "Output Fluid:\n",
       "\tFluid: title = Air, id = 2521142046992\n",
       "\tp = 101325 Pa\n",
       "\tt = 20.0 °C"
      ]
     },
     "execution_count": 14,
     "metadata": {},
     "output_type": "execute_result"
    }
   ],
   "source": [
    "# defining outside flow\n",
    "flow_outside = Flow(Fluid(\"Air\",temperature = 20+273.15),mass_flow=0.4)\n",
    "flow_outside\n"
   ]
  },
  {
   "cell_type": "code",
   "execution_count": 15,
   "metadata": {},
   "outputs": [
    {
     "data": {
      "text/plain": [
       "Flow: id = 2521142047376\n",
       "\tmass flow = 0.15000 kg/s\n",
       "\theat capacity flow: W_dot = 633.12137 W/K\n",
       "\theat flow: Q_dot = 0.00000 kW\n",
       "\n",
       "Input Fluid:\n",
       "\tFluid: title = Water, id = 2521138527696\n",
       "\tp = 500000.0 Pa\n",
       "\tt = 105.0 °C\n",
       "Output Fluid:\n",
       "\tFluid: title = Water, id = 2521142047632\n",
       "\tp = 500000.0 Pa\n",
       "\tt = 105.0 °C"
      ]
     },
     "execution_count": 15,
     "metadata": {},
     "output_type": "execute_result"
    }
   ],
   "source": [
    "# defining inside flow\n",
    "flow_inside = Flow(Fluid(\"Water\",pressure=5e5,temperature=105+273.15),mass_flow=0.15)\n",
    "flow_inside"
   ]
  },
  {
   "cell_type": "markdown",
   "metadata": {},
   "source": [
    "### Geometriedaten\n",
    "Vom Aufbau des Wärmeübertragers sind folgende Daten bekannt.\n",
    "\n",
    "Der Innenstrom ist auf $n = 20$ Rohrleitungen (Innendurchmesser $D_i = 8 mm$, Wandstärke $s = 2 mm$) aufgeteilt, welche in zwei Schichten versetzt angeordnet sind. Die Rohre haben außen kleine Strukturen, um bei der Umströmung eine turbulente Grenzschicht zu gewährleisten. Die folgenden weiteren Daten zur Geometrie sind bekannt (vgl. dazu die Skizzen in Abbildung):\n",
    "\n",
    "+ $B = 0,35 m$\n",
    "+ $H = 0,18 m$\n",
    "+ $L_M = 1,0 m$\n",
    "+ $L_E = 41 mm$\n",
    "+ $d = 48.mm$\n",
    "\n",
    "<img src=\"./images/simpleHeatexchanger.PNG\" alt=\"heat_exchanger_geometrie\" width=\"450\" height=\"300\">\n",
    "\n",
    "Dadurch ist der verfügbare Bauraum zur Gänze ausgenutzt.\n",
    "\n",
    "Der Wärmedurchgangskoezienten wird mit $k=35$ abgeschätzt."
   ]
  },
  {
   "cell_type": "markdown",
   "metadata": {},
   "source": [
    "## Implementierung\n",
    "\n",
    "Für die Berechnung eines Wärmeübertrags ist in späterer Folge die Wärmeübertragungsfähigkeit relevant. Diese muss über die Klasse bzw. Subklasse `Part` übergeben werden. Die Instanz `Part` kann entweder direkt über die Parameter Wärmeübertragungsfähigkeit `heat_transferability` oder über die wärmeübertragende Fläche `heat_transfer_area` und den Wärmedurchgangskoeffizienten `heat_transfer_coefficient` definiert werden. Alternativ dazu können die Subklassen zur Berechnung, insbesondere der wärmeübertragenden Flächen - in erweiterten Implementierungen auch des Wärmedurchgangskoeffizienten - genutzt werden.\n",
    "\n",
    "In diesem Beispiel wird die Länge eines Rohrs manuell kalkuliert. Damit kann zunächst ein einzelnes glattes Rohr `StraightPipe` über die Eigenschaften `diameter_in`, `diameter_out` und `length` definiert werden. Ein Rohrbündel wird über `PipeLayout` initialisiert und erfordert ein Objekt der Klasse `Pipe` sowie die Anzahl der Rohre. Damit kann die wärmeübertragende Fläche aus der eines einzelnen Rohrs und der Anzahl berechnet werden. Der Wärmedurchgangskoeffizient wird über `heat_transfer_coefficient` gesetzt. Damit ist die Wärmeübertragungsfähigkeit des Rohrbündels vollständig definiert.\n"
   ]
  },
  {
   "cell_type": "code",
   "execution_count": 16,
   "metadata": {},
   "outputs": [
    {
     "data": {
      "text/plain": [
       "part:\n",
       "\t id = 2521142046928\n",
       "\t typ: PipeLayout\n",
       "\n",
       "geometric properties:\n",
       "\tpipe type: StraightPipe\n",
       "\tlength = 3.23280 m\n",
       "\tdiameter: in = 0.01190 m, out = 0.01200 m\n",
       "\tnumber of pipes: 20\n",
       "\tpipe pattern: square\n",
       "\n",
       "hydraulic properties:\n",
       "\tflow area = 0.002224 m^2\n",
       "\n",
       "thermic properties:\n",
       "\theat transferability: 84.956 W/K\n",
       "\theat transfer area: 2.4273 m^2\n",
       "\theat transfer coefficient: 35.00 W/(m^2 K)"
      ]
     },
     "execution_count": 16,
     "metadata": {},
     "output_type": "execute_result"
    }
   ],
   "source": [
    "l_m,l_e,d = 1,41e-3,48e-3\n",
    "length = 3*l_m+2*l_e +d*pi\n",
    "\n",
    "pipe = StraightPipe(diameter_in=11.9e-3,diameter_out=12e-3,length=length)\n",
    "pipe_layout = PipeLayout(pipe,20)\n",
    "pipe_layout.heat_transfer_coefficient = 35\n",
    "pipe_layout"
   ]
  },
  {
   "cell_type": "markdown",
   "metadata": {},
   "source": [
    "### Wärmeübertager\n",
    "Mit obigen Paramtern ergibt sich nach anpassen der Fluidparameter für einen Rohrbündelwärmeübertrager mit einem äußern und drei inneren durchgängen (zwei im Gegenstrom):"
   ]
  },
  {
   "cell_type": "markdown",
   "metadata": {},
   "source": [
    "## Implementierung\n",
    "\n",
    "Wenn die Austrittstemperatur eines Wärmeübertragers benötigt wird, für den bereits implementierte Formeln zur Verfügung stehen, kann dies über die Klasse `HeatExchanger` und ihre Subklassen erfolgen. Dazu sind die beiden Fluidströme der Klasse `Flow` sowie ein Bauteil der Klasse `Part` erforderlich.\n",
    "\n",
    "Der Wärmetauscher wird also über die entsprechende Subklasse definiert, die dem gewünschten Typ entspricht. Zum Beispiel für einen reinen Gegenstromwärmetauscher `CounterCurrentFlow` oder für einen Rohrbündelwärmeübertrager mit einem äußeren und drei inneren Durchgängen (zwei im Gegenstrom) `OneOuterThreeInnerTwoCounterFlow`.\n",
    "\n",
    "Mit dem Wärmekapazitätsstrom der Fluide `heat_capacity_flow`, der Wärmeübertragungsfähigkeit `heat_transferability` und den für den jeweiligen Typ entsprechenden Formeln werden dimensionslose Parameter wie die Anzahl der Transfer Units (NTU) `ntu`, dimensionslose Übertragungsfähigkeiten `r` und dimensionslose Temperaturänderungen `p` berechnet.\n",
    "\n",
    "Die Austrittstemperatur wird über die dimensionslose Temperaturfähigkeit und die Temperatur des Eintrittsfluids `flow_1.in_fluid.temperature` bzw. `flow_2.in_fluid.temperature` des entsprechenden Fluidstroms mithilfe der Methode `_calc_output` berechnet. Gleichzeitig wird die Austrittstemperatur des Fluidstroms in fünf Iterationen angepasst und damit auch die anderen Strom- und Fluidparameter. Dadurch wird auch der übertragene Wärmestrom (sofern es zu keiner Phasenänderung kommt) entsprechend kalkuliert.\n",
    "\n",
    "Standardmäßig ist das Attribut `auto_adjust` der Klasse `HeatExchanger` auf `True` gesetzt. Dadurch wird beim Ausführen der Methoden `str()` bzw. `print()` die Methode `_calc_output` automatisch aufgerufen.\n"
   ]
  },
  {
   "cell_type": "code",
   "execution_count": 17,
   "metadata": {},
   "outputs": [
    {
     "data": {
      "text/plain": [
       "\n",
       "heat exchanger:\n",
       "\tid = 2521142088528\n",
       "\ttype: OneOuterThreeInnerTwoCounterFlow\n",
       "Flows:\n",
       "Flow 1:\n",
       "Flow: id = 2521142047760\n",
       "\tmass flow = 0.40000 kg/s\n",
       "\theat capacity flow: W_dot = 402.45761 W/K\n",
       "\theat flow: Q_dot = 0.00000 kW\n",
       "\n",
       "Input Fluid:\n",
       "\tFluid: title = Air, id = 2521142192784\n",
       "\tp = 101325 Pa\n",
       "\tt = 20.0 °C\n",
       "Output Fluid:\n",
       "\tFluid: title = Air, id = 2521142046992\n",
       "\tp = 101325 Pa\n",
       "\tt = 20.0 °C\n",
       "\n",
       "Flow 2:\n",
       "Flow: id = 2521142047376\n",
       "\tmass flow = 0.15000 kg/s\n",
       "\theat capacity flow: W_dot = 633.12137 W/K\n",
       "\theat flow: Q_dot = 0.00000 kW\n",
       "\n",
       "Input Fluid:\n",
       "\tFluid: title = Water, id = 2521138527696\n",
       "\tp = 500000.0 Pa\n",
       "\tt = 105.0 °C\n",
       "Output Fluid:\n",
       "\tFluid: title = Water, id = 2521142047632\n",
       "\tp = 500000.0 Pa\n",
       "\tt = 105.0 °C\n",
       "\n",
       "Parameters:\n",
       "\n",
       "dimensionless parameters:\n",
       "number of transfer units:\n",
       "\tNTU_1 = 0.211\n",
       "\tNTU_2 = 0.134\n",
       "heat capacity flow ratios:\n",
       "\tR_1 = 0.636\n",
       "\tR_2 = 1.573\n",
       "dimensionless temperature change:\n",
       "\tP_1 = 0.179\n",
       "\tP_2 = 0.114"
      ]
     },
     "execution_count": 17,
     "metadata": {},
     "output_type": "execute_result"
    }
   ],
   "source": [
    "ex = OneOuterThreeInnerTwoCounterFlow(flow_outside,flow_inside,pipe_layout)\n",
    "ex.auto_adjust = False\n",
    "ex"
   ]
  },
  {
   "cell_type": "markdown",
   "metadata": {},
   "source": [
    "### Alternativer Wärmeübertrager Typ\n",
    "Ein Wärmeübertrager mit reinem Gegenstrom und gleicher Wärmeübertragungsfähigkeit würde im gegeben Fall zu einer nahezu gleichen Austrittstemperatur führen.\n",
    "\n",
    "Beim erhöhen der Übertragungsfähigkeit würde der Gegenstrom Wärmeübertrager einen besseren Wirkungsgrad ergeben. "
   ]
  },
  {
   "cell_type": "code",
   "execution_count": 18,
   "metadata": {},
   "outputs": [
    {
     "data": {
      "text/plain": [
       "\n",
       "heat exchanger:\n",
       "\tid = 2521142037200\n",
       "\ttype: CounterCurrentFlow\n",
       "Flows:\n",
       "Flow 1:\n",
       "Flow: id = 2521142047760\n",
       "\tmass flow = 0.38956 kg/s\n",
       "\theat capacity flow: W_dot = 392.06020 W/K\n",
       "\theat flow: Q_dot = -6.14130 kW\n",
       "\n",
       "Input Fluid:\n",
       "\tFluid: title = Air, id = 2521142192784\n",
       "\tp = 101325 Pa\n",
       "\tt = 20.0 °C\n",
       "Output Fluid:\n",
       "\tFluid: title = Air, id = 2521142046992\n",
       "\tp = 101325 Pa\n",
       "\tt = 35.66405412704643 °C\n",
       "\n",
       "Flow 2:\n",
       "Flow: id = 2521142047376\n",
       "\tmass flow = 0.15056 kg/s\n",
       "\theat capacity flow: W_dot = 634.58189 W/K\n",
       "\theat flow: Q_dot = 6.14138 kW\n",
       "\n",
       "Input Fluid:\n",
       "\tFluid: title = Water, id = 2521138527696\n",
       "\tp = 500000.0 Pa\n",
       "\tt = 105.0 °C\n",
       "Output Fluid:\n",
       "\tFluid: title = Water, id = 2521142047632\n",
       "\tp = 500000.0 Pa\n",
       "\tt = 95.32236458240772 °C\n",
       "\n",
       "Parameters:\n",
       "\n",
       "dimensionless parameters:\n",
       "number of transfer units:\n",
       "\tNTU_1 = 0.217\n",
       "\tNTU_2 = 0.134\n",
       "heat capacity flow ratios:\n",
       "\tR_1 = 0.618\n",
       "\tR_2 = 1.619\n",
       "dimensionless temperature change:\n",
       "\tP_1 = 0.184\n",
       "\tP_2 = 0.114"
      ]
     },
     "execution_count": 18,
     "metadata": {},
     "output_type": "execute_result"
    }
   ],
   "source": [
    "ex = CounterCurrentFlow(flow_outside,flow_inside,pipe_layout)\n",
    "ex"
   ]
  }
 ],
 "metadata": {
  "kernelspec": {
   "display_name": "env_bachelorarbeit",
   "language": "python",
   "name": "python3"
  },
  "language_info": {
   "codemirror_mode": {
    "name": "ipython",
    "version": 3
   },
   "file_extension": ".py",
   "mimetype": "text/x-python",
   "name": "python",
   "nbconvert_exporter": "python",
   "pygments_lexer": "ipython3",
   "version": "3.11.4"
  },
  "orig_nbformat": 4
 },
 "nbformat": 4,
 "nbformat_minor": 2
}
