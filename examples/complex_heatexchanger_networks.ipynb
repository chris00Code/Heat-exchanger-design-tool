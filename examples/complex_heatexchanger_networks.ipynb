{
 "cells": [
  {
   "cell_type": "code",
   "execution_count": 1,
   "metadata": {},
   "outputs": [],
   "source": [
    "import sys\n",
    "sys.path.append('..')\n",
    "from exchanger.parts import *\n",
    "from exchanger.stream import *\n",
    "from exchanger.exchanger import*\n",
    "from exchanger.network import *\n",
    "import numpy as np"
   ]
  },
  {
   "cell_type": "markdown",
   "metadata": {},
   "source": [
    "# Komplexe Wärmeübertragernetzwerke\n",
    "\n",
    "Im Folgenden wird gezeigt, wie die Zellenmethode mithilfe der Implementierung für komplexe Wärmeübertragernetzwerke, dh. Netzwerke welche nicht üblichen Stromführungen wie z.B. in Rohrbündelwärmeübertragern entsprechen, angewendet werden können. Weitere Details zur Methode lassen sich aus der Erklärung zur Zellenmethode ([Zellenmethode Theorie](theorie.pdf)) entnehmen."
   ]
  },
  {
   "cell_type": "markdown",
   "metadata": {},
   "source": [
    "## Implementierung der Zellenmethode\n",
    "\n",
    "Die folgenden Beispiele zeigen die Verwendung der Klasse `ExchangerNetwork`. Dazu sind auch Objekte der Klassen `Fluid` und `Flow` notwendig, die bereits in [`standard_heatexchangers.ipynb`](standard_heatexchangers.ipynb) bzw. in der Klassendokumentation beschrieben wurden.\n",
    "\n",
    "Die Klasse `ExchangerNetwork` dient ausschließlich zur Berechnung der Austrittstemperaturen der Apparate bzw. des Netzwerks mithilfe der Zellenmethode. Dazu müssen folgende Eigenschaften, wie in der theoretischen Erklärung beschrieben, definiert werden:\n",
    "\n",
    "- Die Funktionsmatrix `phi_matrix`, die die Betriebscharakteristik der Apparate beschreibt.\n",
    "- Die Strukturmatrix `structure_matrix`, die die Struktur des Netzwerks beschreibt.\n",
    "- Die Eingangsmatrix `input_matrix`, die die Fluidstromeintritte in das Netzwerk beschreibt.\n",
    "- Die Ausgangsmatrix `output_matrix`, um die Ausgangstemperaturen aus dem Netzwerk zu berechnen.\n",
    "\n",
    "Die Berechnung erfolgt mithilfe der auf die minimale und maximale Eintrittsfluidtemperatur normierten Temperaturen. Dazu muss der Instanz `ExchangerNetwork` eine Liste mit allen in das Netzwerk eintretenden Fluidströmen übergeben werden. Entsprechend dieser Listenordnung müssen auch die Input- und Outputmatrizen definiert werden.\n",
    "\n",
    "Nun kann die Berechnung mithilfe der Zellenmethode erfolgen. Die resultierenden Austrittstemperaturen aus den Apparaten sind in der Eigenschaft `temperature_matrix` gespeichert, während diejenigen des Netzwerks in der Eigenschaft `temperature_outputs` vorliegen. Dabei wird jeweils ein Tupel erstens mit den dimensionslosen und zweitens mit den dimensionsbehafteten Temperaturen ausgegeben.\n",
    "\n",
    "Die Netzwerkcharakteristik, bzw. in der Erklärung zur Zellenmethode auch Schaltungscharakteristik $\\Phi^S$ genannt, ist durch die Eigenschaft `network_characteristics` gegeben. Damit kann der relative Einfluss der Eintrittstemperaturen auf die Austrittstemperaturen des gesamten Netzwerks direkt abgelesen werden.\n",
    "\n",
    "Es ist zu beachten, dass in der aktuellen Implementierung die Information über die Strömungsführung nur in der Strukturmatrik $\\mathbf{S}$ enthalten ist. Die objektorientierte Programmierung hilft nur bei der Initialisierung, durch den Aufbau der Funktionsmatrik $\\Phi$, welche nur noch die skalaren Werte der Betriebscharakteristik enthält, geht die anfänglich hinterlegte Information zu den einzelnen Fluiden (Temperatur, Dichte etc.) und Apparaten (Typ) verloren. Die Anpassung der Parameter nach der inertialen Berechnung kann daher nicht automatisch erfolgen, sondern wäre in der gegebenen Implementierung nur durch eine neue Initialisierung des gesamten Netzwerks möglich."
   ]
  },
  {
   "cell_type": "markdown",
   "metadata": {},
   "source": [
    "## Wärmeübertragerschaltung mit Stromteilung\n",
    "\n",
    "Die folgende Wärmeübertragerschaltung  und Parameter sind entnommen aus \"Eine allgemeine Berechnungsmmethode für Wärmeübertragerschaltungen\", Kapitel 4.3, von Olaf Strelow.\n",
    "\n",
    "Von dem Wärmeübertragungsnetzwerk, wie in der folgenden Abbildung dargestellt, sind die Eintrittstemperaturen und die Betriebscharakteristiken der einzelnen Apparate bekannt.\n",
    "\n",
    "- $T^I_{1}=373 K$\n",
    "- $T^I_{2}=405 K$\n",
    "- $T^I_{3}=293 K$\n",
    "\n",
    "\n",
    "- $\\Phi_{11}=0.8$, $\\Phi_{21}=0.6$\n",
    "- $\\Phi_{12}=0.6$, $\\Phi_{22}=0.6$\n",
    "- $\\Phi_{13}=0.76$, $\\Phi_{23}=0.76$\n",
    "- $\\Phi_{14}=0.64$, $\\Phi_{24}=0.16$\n",
    "\n",
    "\n",
    "<figure>\n",
    "  <img src=\"images/flowchart_complexnetwork.jpg\" alt=\"heat_exchanger_geometrie\" width=\"600\" height=\"500\">\n",
    "  <figcaption> Wärmeübertragerschaltung mit Stromteilung</figcaption>\n",
    "</figure>"
   ]
  },
  {
   "cell_type": "markdown",
   "metadata": {},
   "source": [
    "Wie zuvor beschrieben werden zunächst die Ströme initialisiert und anschließend die das Netzwerk beschreibende Matrizen. Dazu wird die aufsteigende Nummerierung der Ströme (vgl. `flows`) bzw. der Apparate gewählt."
   ]
  },
  {
   "cell_type": "code",
   "execution_count": 2,
   "metadata": {},
   "outputs": [],
   "source": [
    "# defining Flows (mass flow irrelevant for following calculations)\n",
    "flow_1 = Flow(Fluid(\"Water\", temperature=373), 1)\n",
    "flow_2 = Flow(Fluid(\"Water\", temperature=405), 1)\n",
    "flow_3 = Flow(Fluid(\"Water\", temperature=293), 1)\n",
    "flows = [flow_1, flow_2, flow_3]"
   ]
  },
  {
   "cell_type": "code",
   "execution_count": 3,
   "metadata": {},
   "outputs": [],
   "source": [
    "network = ExchangerNetwork(flows)\n",
    "network.phi_matrix = np.array([[0.2, 0., 0., 0., 0.8, 0., 0., 0.],\n",
    "                               [0., 0.4, 0., 0., 0., 0.6, 0., 0.],\n",
    "                               [0., 0., 0.24, 0., 0., 0., 0.76, 0.],\n",
    "                               [0., 0., 0., 0.36, 0., 0., 0., 0.64],\n",
    "                               [0.6, 0., 0., 0., 0.4, 0., 0., 0.],\n",
    "                               [0., 0.6, 0., 0., 0., 0.4, 0., 0.],\n",
    "                               [0., 0., 0.76, 0., 0., 0., 0.24, 0.],\n",
    "                               [0., 0., 0., 0.16, 0., 0., 0., 0.84]])\n",
    "network.structure_matrix = np.array([[0., 1., 0., 0., 0., 0., 0., 0.],\n",
    "                                     [0., 0., 0., 0., 0., 0., 0., 0.],\n",
    "                                     [0., 0., 0., 1., 0., 0., 0., 0.],\n",
    "                                     [0., 0., 0., 0., 0., 0., 0., 0.],\n",
    "                                     [0., 0., 0., 0., 0., 0., 0., 0.],\n",
    "                                     [0., 0., 0., 0., 1, 0., 0., 0.],\n",
    "                                     [0., 0., 0., 0., 1, 0., 0., 0.],\n",
    "                                     [0., 0., 0., 0., 0., 0.75, 0.25, 0.]])\n",
    "network.input_matrix = np.array([[0, 0, 0],\n",
    "                                 [1, 0, 0],\n",
    "                                 [0, 0, 0],\n",
    "                                 [0, 1, 0],\n",
    "                                 [0, 0, 1],\n",
    "                                 [0, 0, 0],\n",
    "                                 [0, 0, 0],\n",
    "                                 [0, 0, 0]])\n",
    "network.output_matrix = np.asarray([[1, 0, 0, 0, 0, 0, 0, 0],\n",
    "                                    [0, 0, 1, 0, 0, 0, 0, 0],\n",
    "                                    [0, 0, 0, 0, 0, 0, 0, 1]])"
   ]
  },
  {
   "cell_type": "markdown",
   "metadata": {},
   "source": [
    "Die Austrittstemperaturen der einzelnen Apparate können mithilfe der Netzwerkeigenschaft `temperature_matrix` abgerufen werden. Diese Eigenschaft ein Tupel zurück, wobei der erste Eintrag eine Matrix der dimensionslosen Temperaturen und der zweite Eintrag `temperature_matrix[1]` eine Matrix der Temperaturen in Kelvin liefert. Die Matrix hat die doppelte Anzahl an Zeilen im Vergleich zur Anzahl der Apparate. Die erste Hälfte der Zeilen enthält die Austrittstemperaturen des ersten Stroms jedes Apparats, während die zweite Hälfte die des zweiten Stroms enthält. Die Reihenfolge der Apparate entspricht derjenigen, die bei der Definition der Netzwerkmatrizen verwendet wurde."
   ]
  },
  {
   "cell_type": "code",
   "execution_count": 4,
   "metadata": {},
   "outputs": [
    {
     "data": {
      "text/plain": [
       "array([[303.],\n",
       "       [343.],\n",
       "       [335.],\n",
       "       [373.],\n",
       "       [323.],\n",
       "       [353.],\n",
       "       [361.],\n",
       "       [363.]])"
      ]
     },
     "execution_count": 4,
     "metadata": {},
     "output_type": "execute_result"
    }
   ],
   "source": [
    "network.temperature_matrix[1]"
   ]
  },
  {
   "cell_type": "markdown",
   "metadata": {},
   "source": [
    "Die Austrittstemperaturen des gesamten Netzwerks in Kelvin ergibt sich, ähnlich zu jenen der einzelnen Apparate, durch die Netzwerkeigenschaft `temperature_outputs[1]`. Die Dimension und Sortierung ergibt sich aus der Initialisierung der Netzwerkströme.\n",
    "\n",
    "Beispielsweise ist die Austrittstemperatur des Stroms 1 aus dem gesamten Netzwerk $T^O_{1}=303 K$."
   ]
  },
  {
   "cell_type": "code",
   "execution_count": 5,
   "metadata": {},
   "outputs": [
    {
     "data": {
      "text/plain": [
       "array([[303.],\n",
       "       [335.],\n",
       "       [363.]])"
      ]
     },
     "execution_count": 5,
     "metadata": {},
     "output_type": "execute_result"
    }
   ],
   "source": [
    "network.temperature_outputs[1]"
   ]
  },
  {
   "cell_type": "markdown",
   "metadata": {},
   "source": [
    "Die Schaltungscharakteristik wird durch folgende Matrix beschrieben. Damit kann der relative Einfluss der Eintrittstemperaturen auf die Austrittstemperaturen des gesamten Netzwerks direkt abgelesen werden.\n",
    "\n",
    "Beispielsweise hat die Änderung der Eintrittstemperatur des Fluidstroms 2 keinen Einfluss auf die Austrittstemperatur des Fluidstroms 1, bewirkt aber eine Änderung der Austrittstemperatur von 9,8 % der Eintrittstemperaturänderung, des selbigen Fluidstroms und eine Änderung von 22,5 % der Eintrittstemperaturänderung des 3. Fluidstorms."
   ]
  },
  {
   "cell_type": "code",
   "execution_count": 6,
   "metadata": {},
   "outputs": [
    {
     "data": {
      "text/plain": [
       "array([[0.125     , 0.        , 0.875     ],\n",
       "       [0.38729508, 0.09836066, 0.51434426],\n",
       "       [0.55942623, 0.22540984, 0.21516393]])"
      ]
     },
     "execution_count": 6,
     "metadata": {},
     "output_type": "execute_result"
    }
   ],
   "source": [
    "network.network_characteristics"
   ]
  },
  {
   "cell_type": "markdown",
   "metadata": {},
   "source": [
    "## Doppelrohr-Wärmeübertragers mit drei Strängen\n",
    "\n",
    "Von einem Wärmeübertragungsnetzwerk, wie in der folgenden Abbildung dargestellt, sind die Eintrittstemperaturen und die Betriebscharakteristiken der einzelnen Apparate bekannt.\n",
    "\n",
    "<figure>\n",
    "  <img src=\"images/heatexchanger_doubletube.PNG\" alt=\"heat_exchanger_geometrie\" width=\"600\" height=\"400\">\n",
    "  <figcaption> Doppelrohr-Wärmeübertrager mit drei Strängen</figcaption>\n",
    "</figure>\n",
    "\n",
    "Der Fluidstrom 1 ist ein Thermofluid mit der Eintrittstemperatur von $120 °C$ und einem sich gleichmäßig aufteilenden Massenstrom von $m_1 = 0.18$ kg/s\n",
    "Der 2 Fluidstrom wird durch Wasser mit einer Eintrittstemperatur von $15 °C$ und einem Massenstrom von $m_2 = 0.33$ kg/s repräsentiert.\n",
    "\n",
    "Für die Betriebscharakteristik der einzelnen Durchgänge werden folgende Werte angenommen:\n",
    "\n",
    "- $\\Phi_{11}=0.608$, $\\Phi_{21}=0.048$\n",
    "- $\\Phi_{12}=0.597$, $\\Phi_{22}=0.047$\n",
    "- $\\Phi_{13}=0.605$, $\\Phi_{23}=0.048$\n"
   ]
  },
  {
   "cell_type": "code",
   "execution_count": 7,
   "metadata": {},
   "outputs": [],
   "source": [
    "mass_flow_1 = 0.18\n",
    "fluid_1 = Fluid(\"nHeptane\", temperature=273.15 + 120)\n",
    "flow_11 = Flow(fluid_1.clone(),mass_flow_1/3)\n",
    "flow_12 = Flow(fluid_1.clone(),mass_flow_1/3)\n",
    "flow_13 = Flow(fluid_1.clone(),mass_flow_1/3)\n",
    "\n",
    "flow_2 = Flow(Fluid(\"Water\", temperature=273.15 + 15), 0.33)\n",
    "flows = [flow_11, flow_12, flow_13, flow_2]"
   ]
  },
  {
   "cell_type": "code",
   "execution_count": 8,
   "metadata": {},
   "outputs": [],
   "source": [
    "network = ExchangerNetwork(flows)\n",
    "network.phi_matrix = np.array([[0.392, 0., 0., 0.608, 0., 0.],\n",
    "                               [0., 0.403, 0., 0., 0.597, 0.],\n",
    "                               [0., 0., 0.395, 0., 0., 0.605],\n",
    "                               [0.048, 0., 0., 0.952, 0., 0.],\n",
    "                               [0., 0.047, 0., 0., 0.953, 0.],\n",
    "                               [0., 0., 0.048, 0., 0., 0.952]])\n",
    "network.structure_matrix = np.array([[0., 0., 0., 0., 0., 0.],\n",
    "                                     [0., 0., 0., 0., 0., 0.],\n",
    "                                     [0., 0., 0., 0., 0., 0.],\n",
    "                                     [0., 0., 0., 0., 0., 0.],\n",
    "                                     [0., 0., 0., 1., 0., 0.],\n",
    "                                     [0., 0., 0., 0., 1., 0.]])\n",
    "network.input_matrix = np.array([[1, 0, 0, 0],\n",
    "                                 [0, 1, 0, 0],\n",
    "                                 [0, 0, 1, 0],\n",
    "                                 [0, 0, 0, 1],\n",
    "                                 [0, 0, 0, 0],\n",
    "                                 [0, 0, 0, 0]])\n",
    "network.output_matrix = np.asarray([[1, 0, 0, 0, 0, 0],\n",
    "                                    [0, 1, 0, 0, 0, 0],\n",
    "                                    [0, 0, 1, 0, 0, 0],\n",
    "                                    [0, 0, 0, 0, 0, 1]])"
   ]
  },
  {
   "cell_type": "markdown",
   "metadata": {},
   "source": [
    "Die einzelnen Austritstemperaturen in Grad Celsius sind somit:"
   ]
  },
  {
   "cell_type": "code",
   "execution_count": 9,
   "metadata": {},
   "outputs": [
    {
     "data": {
      "text/plain": [
       "array([[56.16      ],\n",
       "       [60.32388   ],\n",
       "       [62.3665626 ],\n",
       "       [29.31069024]])"
      ]
     },
     "execution_count": 9,
     "metadata": {},
     "output_type": "execute_result"
    }
   ],
   "source": [
    "network.temperature_outputs[1]-273.15"
   ]
  },
  {
   "cell_type": "markdown",
   "metadata": {},
   "source": [
    "Wie zuvor bereits beschrieben ergibt sich die Sortierung der Temperaturen durch die Reihenfolge wie die Ströme im Netzwerk z. B. durch `flows` initialisiert werden. \n",
    "\n",
    "Wird der Fluidstrom 1 wieder vermischt ergibt sich eine Temperatur von $59.62 °C$ und für den zweiten Fluidstrom $29.31 °C$"
   ]
  },
  {
   "cell_type": "markdown",
   "metadata": {},
   "source": [
    "Alternativ könnte auch die Outputmatrix für das gesamte Netzwerk defniert werden und die Vermischung bereits im Netzwerkaustritt berücksichtigt werden."
   ]
  },
  {
   "cell_type": "code",
   "execution_count": 10,
   "metadata": {},
   "outputs": [],
   "source": [
    "network.output_matrix = np.asarray([[1 / 3, 1 / 3, 1 / 3, 0, 0, 0],\n",
    "                                    [0, 0, 0, 0, 0, 1]])"
   ]
  },
  {
   "cell_type": "markdown",
   "metadata": {},
   "source": [
    "Somit ergeben sich wiederum die gleichen Fluidstromaustrittstemperaturen des gesamten Netzwerks"
   ]
  },
  {
   "cell_type": "code",
   "execution_count": 11,
   "metadata": {},
   "outputs": [
    {
     "data": {
      "text/plain": [
       "array([[59.6168142 ],\n",
       "       [29.31069024]])"
      ]
     },
     "execution_count": 11,
     "metadata": {},
     "output_type": "execute_result"
    }
   ],
   "source": [
    "network.temperature_outputs[1]-273.15"
   ]
  }
 ],
 "metadata": {
  "kernelspec": {
   "display_name": "env_bachelorarbeit",
   "language": "python",
   "name": "python3"
  },
  "language_info": {
   "codemirror_mode": {
    "name": "ipython",
    "version": 3
   },
   "file_extension": ".py",
   "mimetype": "text/x-python",
   "name": "python",
   "nbconvert_exporter": "python",
   "pygments_lexer": "ipython3",
   "version": "3.11.5"
  },
  "orig_nbformat": 4,
  "title": "Wärmeübertragernetzwerke\n complex_heatexchanger_network.ipynb"
 },
 "nbformat": 4,
 "nbformat_minor": 2
}
