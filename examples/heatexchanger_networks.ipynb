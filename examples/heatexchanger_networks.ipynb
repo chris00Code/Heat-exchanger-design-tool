{
 "cells": [
  {
   "cell_type": "code",
   "execution_count": 154,
   "metadata": {},
   "outputs": [],
   "source": [
    "import sys\n",
    "sys.path.append('..')\n",
    "from exchanger.parts import *\n",
    "from exchanger.stream import *\n",
    "from exchanger.exchanger import*\n",
    "from exchanger.network import*\n",
    "from exchanger.exchanger_types import*\n",
    "\n",
    "import numpy as np\n",
    "from numpy import exp\n"
   ]
  },
  {
   "cell_type": "markdown",
   "metadata": {},
   "source": [
    "Die Stromführung des Wärmeübertragers besteht aus zwei inneren und zwei äußeren Durchgängen mit einer mantelseitigen Umlenkung. Die für die Wärmeübertragung maßgebende Größe $k A$ ist für alle Zellen gleich und beträgt $4 000 W/K$. Der Strom im Außenraum hat den Index 1. Um die Berechnung zu vereinfachen, werden die beiden Wärmekapazitätsströme $\\dot{W_1}$ und $\\dot{W_2}$ mit $3500 W/K$ gleich groß gewählt. Die Eintrittstemperatur des Stromes 1 ist $\\vartheta^{'}_1 = 100 °C$ und die des Stromes 2 ist $\\vartheta^{'}_2 = 20 °C$.\n",
    "\n",
    "Zu bestimmen sind die Austrittstemperaturen $\\vartheta^{'}_1$ und $\\vartheta^{'}_2$.\n",
    "\n",
    "<img src=\"./images/heatexchanger_network_equal.PNG\" alt=\"heatexchanger_network_equal\" width=\"650\" height=\"300\">"
   ]
  },
  {
   "cell_type": "markdown",
   "metadata": {},
   "source": [
    "Zunächst werden die Fluidströme, im folgenden beispielsweise Wasser, definiert. Der Massenstrom wird dabei so angepasst dass die Wärmekapazitätsströme den in der Angabe vorgegebenen entsprechen. Der Druck für das Fluid wird so angepasst das es zu keiner Phasenänderung kommt um eine korrekte Berechnung zu gewährleisten."
   ]
  },
  {
   "cell_type": "code",
   "execution_count": 155,
   "metadata": {},
   "outputs": [
    {
     "data": {
      "text/plain": [
       "Flow: id = 2284099571088\n",
       "\tmass flow = 0.83024 kg/s\n",
       "\theat capacity flow: W_dot = 3500.00000 W/K\n",
       "\theat flow: Q_dot = 0.00000 kW\n",
       "\n",
       "Input Fluid:\n",
       "\tFluid: title = Water, id = 2284334543824\n",
       "\tp = 101420 Pa\n",
       "\tt = 100.0 °C\n",
       "Output Fluid:\n",
       "\tFluid: title = Water, id = 2284098792400\n",
       "\tp = 101420 Pa\n",
       "\tt = 100.0 °C"
      ]
     },
     "execution_count": 155,
     "metadata": {},
     "output_type": "execute_result"
    }
   ],
   "source": [
    "W_dot_1 = 3500\n",
    "fluid_1 = Fluid(\"Water\", pressure=101420, temperature=273.15 + 100)\n",
    "flow_1 = Flow(fluid_1, W_dot_1/fluid_1.specific_heat)\n",
    "flow_1"
   ]
  },
  {
   "cell_type": "code",
   "execution_count": 156,
   "metadata": {},
   "outputs": [
    {
     "data": {
      "text/plain": [
       "Flow: id = 2284334575184\n",
       "\tmass flow = 0.83651 kg/s\n",
       "\theat capacity flow: W_dot = 3500.00000 W/K\n",
       "\theat flow: Q_dot = 0.00000 kW\n",
       "\n",
       "Input Fluid:\n",
       "\tFluid: title = Water, id = 2284334607248\n",
       "\tp = 101325 Pa\n",
       "\tt = 20.0 °C\n",
       "Output Fluid:\n",
       "\tFluid: title = Water, id = 2284335502736\n",
       "\tp = 101325 Pa\n",
       "\tt = 20.0 °C"
      ]
     },
     "execution_count": 156,
     "metadata": {},
     "output_type": "execute_result"
    }
   ],
   "source": [
    "W_dot_2 = 3500\n",
    "fluid_2 = Fluid(\"Water\", temperature=273.15 + 20)\n",
    "flow_2 = Flow(fluid_2, W_dot_2/fluid_2.specific_heat)\n",
    "flow_2"
   ]
  },
  {
   "cell_type": "code",
   "execution_count": 157,
   "metadata": {},
   "outputs": [],
   "source": [
    "flows = [flow_1, flow_2]\n",
    "network = ExchangerNetwork(flows)"
   ]
  },
  {
   "cell_type": "markdown",
   "metadata": {},
   "source": [
    "Um die Austrittstemperaturen mithilfe der Zellenmethode zu berechnen muss die Chacharketristk des Netzwerks bekannt sein. Dazu können beisieplsweise die Matrizen die das Netzwerk beschreiben direkt definiert werden:"
   ]
  },
  {
   "cell_type": "markdown",
   "metadata": {},
   "source": [
    "Zunächst können die dimensionslosen Kennzahlen des gesamten Netzwerks berechnet werden. Für die einzelnen Zellen wird davon ausgegangen dass sich die Wärmeübertragungsfähigkeit gleichmäßig auf die Zellen aufteilt."
   ]
  },
  {
   "cell_type": "code",
   "execution_count": 158,
   "metadata": {},
   "outputs": [
    {
     "data": {
      "text/plain": [
       "'R_1 = 1.0, R_2 = 1.0'"
      ]
     },
     "metadata": {},
     "output_type": "display_data"
    }
   ],
   "source": [
    "R_1 = W_dot_1/W_dot_2\n",
    "R_2 = W_dot_2/W_dot_1\n",
    "display(f\"R_1 = {R_1}, R_2 = {R_2}\")"
   ]
  },
  {
   "cell_type": "code",
   "execution_count": 159,
   "metadata": {},
   "outputs": [
    {
     "data": {
      "text/plain": [
       "'NTU_1_cell = 0.2857142857142857, NTU_2_cell = 0.2857142857142857'"
      ]
     },
     "metadata": {},
     "output_type": "display_data"
    }
   ],
   "source": [
    "kA = 4000\n",
    "cells = 4\n",
    "NTU_1_ges = kA/W_dot_1\n",
    "NTU_2_ges = kA/W_dot_2\n",
    "NTU_1_cell = NTU_1_ges/cells\n",
    "NTU_2_cell = NTU_2_ges/cells\n",
    "display(f\"NTU_1_cell = {NTU_1_cell}, NTU_2_cell = {NTU_2_cell}\")"
   ]
  },
  {
   "cell_type": "markdown",
   "metadata": {},
   "source": [
    "Es wird angenommen dass eine Zelle durch einen Wärmeübertrager mit einer Rohrreihe und mantelseitigen Krezstrom angenährt werden kann."
   ]
  },
  {
   "cell_type": "code",
   "execution_count": 160,
   "metadata": {},
   "outputs": [
    {
     "data": {
      "text/plain": [
       "'P_1_cell = 0.22004784968070001, P_2_cell = 0.22004784968070001'"
      ]
     },
     "metadata": {},
     "output_type": "display_data"
    }
   ],
   "source": [
    "P_1_cell = 1 - exp((exp(-R_1 * NTU_1_cell) - 1) / R_1)\n",
    "\n",
    "P_2_cell = R_1*P_1_cell\n",
    "\n",
    "display(f\"P_1_cell = {P_1_cell}, P_2_cell = {P_2_cell}\")"
   ]
  },
  {
   "cell_type": "markdown",
   "metadata": {},
   "source": [
    "Mit diesen Parametern können nun die Matrizen definiert werden."
   ]
  },
  {
   "cell_type": "code",
   "execution_count": 161,
   "metadata": {},
   "outputs": [],
   "source": [
    "network.phi_matrix = np.array([[1-P_1_cell, 0., 0., 0., P_1_cell, 0., 0., 0.],\n",
    "                               [0., 1-P_1_cell, 0., 0., 0., P_1_cell, 0., 0.],\n",
    "                               [0., 0., 1-P_1_cell, 0., 0., 0., P_1_cell, 0.],\n",
    "                               [0., 0., 0., 1-P_1_cell, 0., 0., 0., P_1_cell],\n",
    "                               [P_2_cell, 0., 0., 0., 1-P_2_cell, 0., 0., 0.],\n",
    "                               [0., P_2_cell, 0., 0., 0., 1-P_2_cell, 0., 0.],\n",
    "                               [0., 0., P_2_cell, 0., 0., 0., 1-P_2_cell, 0.],\n",
    "                               [0., 0., 0., P_2_cell, 0., 0., 0., 1-P_2_cell]])\n",
    "network.structure_matrix = np.array([[0, 1, 0, 0, 0, 0, 0, 0],\n",
    "                                     [0, 0, 1, 0, 0, 0, 0, 0],\n",
    "                                     [0, 0, 0, 0, 0, 0, 0, 0],\n",
    "                                     [1, 0, 0, 0, 0, 0, 0, 0],\n",
    "                                     [0, 0, 0, 0, 0, 0, 0, 0],\n",
    "                                     [0, 0, 0, 0, 1, 0, 0, 0],\n",
    "                                     [0, 0, 0, 0, 0, 1, 0, 0],\n",
    "                                     [0, 0, 0, 0, 0, 0, 1, 0]])\n",
    "network.input_matrix = np.array([[0, 0],\n",
    "                                 [0, 0],\n",
    "                                 [1, 0],\n",
    "                                 [0, 0],\n",
    "                                 [0, 1],\n",
    "                                 [0, 0],\n",
    "                                 [0, 0],\n",
    "                                 [0, 0]])\n",
    "network.output_matrix = np.asarray([[0, 0, 0, 1, 0, 0, 0, 0],\n",
    "                                    [0, 0, 0, 0, 0, 0, 0, 1]])"
   ]
  },
  {
   "cell_type": "markdown",
   "metadata": {},
   "source": [
    "Für die einzelnen Zellen ergeben sich somit die folgenden Austritsstemperaturen."
   ]
  },
  {
   "cell_type": "code",
   "execution_count": 162,
   "metadata": {},
   "outputs": [
    {
     "data": {
      "text/plain": [
       "array([[63.32779554],\n",
       "       [75.5518637 ],\n",
       "       [87.77593185],\n",
       "       [61.86324704],\n",
       "       [32.22406815],\n",
       "       [44.4481363 ],\n",
       "       [56.67220446],\n",
       "       [58.13675296]])"
      ]
     },
     "execution_count": 162,
     "metadata": {},
     "output_type": "execute_result"
    }
   ],
   "source": [
    "network.temperature_matrix[1]-273.15"
   ]
  },
  {
   "cell_type": "markdown",
   "metadata": {},
   "source": [
    "Durch die Outputmatirx können noch zusätzlich die Austrittstemperaturen aus dem gesamten Netzwerk herausgefiltert bzw. berechnet werden."
   ]
  },
  {
   "cell_type": "code",
   "execution_count": 163,
   "metadata": {},
   "outputs": [
    {
     "data": {
      "text/plain": [
       "array([[61.86324704],\n",
       "       [58.13675296]])"
      ]
     },
     "execution_count": 163,
     "metadata": {},
     "output_type": "execute_result"
    }
   ],
   "source": [
    "network.temperature_outputs[1]-273.15"
   ]
  },
  {
   "cell_type": "markdown",
   "metadata": {},
   "source": [
    "Wie sich zeigt ist die Definiton der Matrizen für die Zellenmethode nicht immer einfach. Deshalb kann die Berechnung eines Netzwerk mit zwei Strömen und gleichmäßiger Aufteilung der Wärmeübertragungsfähigkeit auf die einzelnen Zellen, wei folgt durchgeführt werden."
   ]
  },
  {
   "cell_type": "code",
   "execution_count": 164,
   "metadata": {},
   "outputs": [],
   "source": [
    "W_dot_1 = 3500\n",
    "fluid_1 = Fluid(\"Water\", pressure=101420, temperature=273.15 + 100)\n",
    "flow_1 = Flow(fluid_1, W_dot_1/fluid_1.specific_heat)\n",
    "\n",
    "W_dot_2 = 3500\n",
    "fluid_2 = Fluid(\"Water\", temperature=273.15 + 20)\n",
    "flow_2 = Flow(fluid_2, W_dot_2/fluid_2.specific_heat)"
   ]
  },
  {
   "cell_type": "code",
   "execution_count": 165,
   "metadata": {},
   "outputs": [],
   "source": [
    "kA = 4000\n",
    "ex = ExchangerEqualCells((2, 2), 'CrossFlowOneRow', flow_1=flow_1, flow_order_1 = 'dr2u', flow_2=flow_2,flow_order_2 = 'ul2r', total_transferability=kA)"
   ]
  },
  {
   "cell_type": "markdown",
   "metadata": {},
   "source": [
    "Wie zu sehen ist ergeben sich wieder die gleichen Austrittstemperaturen wie bei der dirketen eingabe der Matrizen. Die geringe Abweichung kommt dadurch zustande dass die Berechnung iterativ erfolgt und die Austrittstemperaturen bzw die Fluiddaten und somit auch die dimensionslosen Kennzahlen der Zellen angepasst werden. "
   ]
  },
  {
   "cell_type": "code",
   "execution_count": 166,
   "metadata": {},
   "outputs": [
    {
     "name": "stdout",
     "output_type": "stream",
     "text": [
      "Heat Exchanger Network:\n",
      "\tcell numbers: 4\n",
      "\theat flows q_1=133.56 kW,\tq_2=-133.56 kW\n",
      "input flows: n=2\n",
      "\tflow 0: Water, temp= 100.00°C\n",
      "\tflow 1: Water, temp= 20.00°C\n",
      "output flows: n=2\n",
      "\tflow 0: Water, temp= 62.18°C\n",
      "\tflow 1: Water, temp= 58.42°C\n",
      "\n",
      "cell:0\n",
      "\n",
      "heat exchanger:\n",
      "\tid = 2284098365264\n",
      "\ttype: CrossFlowOneRow\n",
      "Flows:\n",
      "Flow 1:\n",
      "Flow: id = 2284335428688\n",
      "\tmass flow = 0.83394 kg/s\n",
      "\theat capacity flow: W_dot = 3510.12275 W/K\n",
      "\theat flow: Q_dot = 42.61267 kW\n",
      "\n",
      "Input Fluid:\n",
      "\tFluid: title = Water, id = 2284334486288\n",
      "\tp = 101420 Pa\n",
      "\tt = 100.0 °C\n",
      "Output Fluid:\n",
      "\tFluid: title = Water, id = 2284334483920\n",
      "\tp = 101420 Pa\n",
      "\tt = 87.86043738378032 °C\n",
      "\n",
      "Flow 2:\n",
      "Flow: id = 2284334491344\n",
      "\tmass flow = 0.82769 kg/s\n",
      "\theat capacity flow: W_dot = 3461.04439 W/K\n",
      "\theat flow: Q_dot = -42.61240 kW\n",
      "\n",
      "Input Fluid:\n",
      "\tFluid: title = Water, id = 2284334605008\n",
      "\tp = 101325 Pa\n",
      "\tt = 44.616938608050646 °C\n",
      "Output Fluid:\n",
      "\tFluid: title = Water, id = 2284334488080\n",
      "\tp = 101325 Pa\n",
      "\tt = 56.928642847056494 °C\n",
      "\n",
      "Parameters:\n",
      "\n",
      "dimensionless parameters:\n",
      "number of transfer units:\n",
      "\tNTU_1 = 0.285\n",
      "\tNTU_2 = 0.289\n",
      "heat capacity flow ratios:\n",
      "\tR_1 = 1.014\n",
      "\tR_2 = 0.986\n",
      "dimensionless temperature change:\n",
      "\tP_1 = 0.219\n",
      "\tP_2 = 0.222\n",
      "\n",
      "\n",
      "cell:1\n",
      "\n",
      "heat exchanger:\n",
      "\tid = 2284334597392\n",
      "\ttype: CrossFlowOneRow\n",
      "Flows:\n",
      "Flow 1:\n",
      "Flow: id = 2284043236880\n",
      "\tmass flow = 0.84090 kg/s\n",
      "\theat capacity flow: W_dot = 3530.21705 W/K\n",
      "\theat flow: Q_dot = 42.79428 kW\n",
      "\n",
      "Input Fluid:\n",
      "\tFluid: title = Water, id = 2284334483920\n",
      "\tp = 101420 Pa\n",
      "\tt = 87.86043738378032 °C\n",
      "Output Fluid:\n",
      "\tFluid: title = Water, id = 2284334597328\n",
      "\tp = 101420 Pa\n",
      "\tt = 75.73847561577139 °C\n",
      "\n",
      "Flow 2:\n",
      "Flow: id = 2284334599376\n",
      "\tmass flow = 0.83197 kg/s\n",
      "\theat capacity flow: W_dot = 3477.07180 W/K\n",
      "\theat flow: Q_dot = -42.79473 kW\n",
      "\n",
      "Input Fluid:\n",
      "\tFluid: title = Water, id = 2284334485776\n",
      "\tp = 101325 Pa\n",
      "\tt = 32.30969890322643 °C\n",
      "Output Fluid:\n",
      "\tFluid: title = Water, id = 2284334605008\n",
      "\tp = 101325 Pa\n",
      "\tt = 44.61693860804968 °C\n",
      "\n",
      "Parameters:\n",
      "\n",
      "dimensionless parameters:\n",
      "number of transfer units:\n",
      "\tNTU_1 = 0.283\n",
      "\tNTU_2 = 0.288\n",
      "heat capacity flow ratios:\n",
      "\tR_1 = 1.015\n",
      "\tR_2 = 0.985\n",
      "dimensionless temperature change:\n",
      "\tP_1 = 0.218\n",
      "\tP_2 = 0.222\n",
      "\n",
      "\n",
      "cell:2\n",
      "\n",
      "heat exchanger:\n",
      "\tid = 2284334493392\n",
      "\ttype: CrossFlowOneRow\n",
      "Flows:\n",
      "Flow 1:\n",
      "Flow: id = 2284335499152\n",
      "\tmass flow = 0.84721 kg/s\n",
      "\theat capacity flow: W_dot = 3549.71614 W/K\n",
      "\theat flow: Q_dot = 42.98914 kW\n",
      "\n",
      "Input Fluid:\n",
      "\tFluid: title = Water, id = 2284334597328\n",
      "\tp = 101420 Pa\n",
      "\tt = 75.73847561577139 °C\n",
      "Output Fluid:\n",
      "\tFluid: title = Water, id = 2284334481808\n",
      "\tp = 101420 Pa\n",
      "\tt = 63.62816680007762 °C\n",
      "\n",
      "Flow 2:\n",
      "Flow: id = 2284334486800\n",
      "\tmass flow = 0.83528 kg/s\n",
      "\theat capacity flow: W_dot = 3492.21853 W/K\n",
      "\theat flow: Q_dot = -42.99117 kW\n",
      "\n",
      "Input Fluid:\n",
      "\tFluid: title = Water, id = 2284334489040\n",
      "\tp = 101325 Pa\n",
      "\tt = 20.0 °C\n",
      "Output Fluid:\n",
      "\tFluid: title = Water, id = 2284334485776\n",
      "\tp = 101325 Pa\n",
      "\tt = 32.30969890323888 °C\n",
      "\n",
      "Parameters:\n",
      "\n",
      "dimensionless parameters:\n",
      "number of transfer units:\n",
      "\tNTU_1 = 0.282\n",
      "\tNTU_2 = 0.286\n",
      "heat capacity flow ratios:\n",
      "\tR_1 = 1.016\n",
      "\tR_2 = 0.984\n",
      "dimensionless temperature change:\n",
      "\tP_1 = 0.217\n",
      "\tP_2 = 0.221\n",
      "\n",
      "\n",
      "cell:3\n",
      "\n",
      "heat exchanger:\n",
      "\tid = 2284099571408\n",
      "\ttype: CrossFlowOneRow\n",
      "Flows:\n",
      "Flow 1:\n",
      "Flow: id = 2284335431184\n",
      "\tmass flow = 0.85044 kg/s\n",
      "\theat capacity flow: W_dot = 3560.20351 W/K\n",
      "\theat flow: Q_dot = 5.16144 kW\n",
      "\n",
      "Input Fluid:\n",
      "\tFluid: title = Water, id = 2284334481808\n",
      "\tp = 101420 Pa\n",
      "\tt = 63.62816680007762 °C\n",
      "Output Fluid:\n",
      "\tFluid: title = Water, id = 2284335428880\n",
      "\tp = 101420 Pa\n",
      "\tt = 62.178408317433025 °C\n",
      "\n",
      "Flow 2:\n",
      "Flow: id = 2284334597904\n",
      "\tmass flow = 0.82492 kg/s\n",
      "\theat capacity flow: W_dot = 3451.44167 W/K\n",
      "\theat flow: Q_dot = -5.16144 kW\n",
      "\n",
      "Input Fluid:\n",
      "\tFluid: title = Water, id = 2284334488080\n",
      "\tp = 101325 Pa\n",
      "\tt = 56.928642847056494 °C\n",
      "Output Fluid:\n",
      "\tFluid: title = Water, id = 2284099576464\n",
      "\tp = 101325 Pa\n",
      "\tt = 58.42408612612866 °C\n",
      "\n",
      "Parameters:\n",
      "\n",
      "dimensionless parameters:\n",
      "number of transfer units:\n",
      "\tNTU_1 = 0.281\n",
      "\tNTU_2 = 0.290\n",
      "heat capacity flow ratios:\n",
      "\tR_1 = 1.032\n",
      "\tR_2 = 0.969\n",
      "dimensionless temperature change:\n",
      "\tP_1 = 0.216\n",
      "\tP_2 = 0.223\n",
      "\n",
      "\n"
     ]
    }
   ],
   "source": [
    "print(ex.extended_info())"
   ]
  }
 ],
 "metadata": {
  "kernelspec": {
   "display_name": "env_bachelorarbeit",
   "language": "python",
   "name": "python3"
  },
  "language_info": {
   "codemirror_mode": {
    "name": "ipython",
    "version": 3
   },
   "file_extension": ".py",
   "mimetype": "text/x-python",
   "name": "python",
   "nbconvert_exporter": "python",
   "pygments_lexer": "ipython3",
   "version": "3.11.4"
  },
  "orig_nbformat": 4
 },
 "nbformat": 4,
 "nbformat_minor": 2
}
