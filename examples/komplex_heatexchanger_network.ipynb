{
 "cells": [
  {
   "cell_type": "code",
   "execution_count": 86,
   "metadata": {},
   "outputs": [],
   "source": [
    "import sys\n",
    "sys.path.append('..')\n",
    "from exchanger.parts import *\n",
    "from exchanger.stream import *\n",
    "from exchanger.exchanger import*\n",
    "from exchanger.network import *\n",
    "import numpy as np"
   ]
  },
  {
   "cell_type": "markdown",
   "metadata": {},
   "source": [
    "# Komplexe Wärmeübertragernetzwerke\n",
    "\n",
    "Im Folgenden wird gezeigt, wie die Zellenmethode mithilfe der Implementierung für komplexe Wärmeübertragernetzwerke angewendet werden kann. Weitere Details zur Methode lassen sich aus der Erklärung zur Zellenmethode ([Zellenmethode Theorie](theorie.pdf)) entnehmen."
   ]
  },
  {
   "cell_type": "markdown",
   "metadata": {},
   "source": [
    "## Implementierung\n",
    "\n",
    "Die folgenden Beispiele zeigen die Verwendung der Klasse `ExchangerNetwork`. Dazu sind auch Objekte der Klassen `Fluid` und `Flow` notwendig, die bereits in [`simple_heatexchangers.ipynb`](simple_heatexchangers.ipynb) bzw. in der Klassendokumentation beschrieben wurden.\n",
    "\n",
    "Die Klasse `ExchangerNetwork` dient ausschließlich zur Berechnung der Austrittstemperaturen der Apparate bzw. des Netzwerks mithilfe der Zellenmethode. Dazu müssen folgende Eigenschaften, wie in der Theoretischen Erklärung beschrieben, definiert werden:\n",
    "\n",
    "- Die Funktionsmatrix `phi_matrix`, die die Betriebscharakteristik der Apparate beschreibt.\n",
    "- Die Strukturmatrix `structure_matrix`, die die Struktur des Netzwerks beschreibt.\n",
    "- Die Eingangsmatrix `input_matrix`, die die Fluidströmeintritte in das Netzwerk beschreibt.\n",
    "- Die Ausgangsmatrix `output_matrix`, um die Ausgangstemperaturen aus dem Netzwerk zu berechnen.\n",
    "\n",
    "Die Berechnung erfolgt mithilfe der auf die minimale und maximale Eintrittsfluidtemperatur normierten Temperaturen. Dazu muss der Instanz `ExchangerNetwork` eine Liste mit allen in das Netzwerk eintretenden Fluidströmen übergeben werden. Entsprechend dieser Listenordnung müssen auch die Input- und Outputmatrizen definiert werden.\n",
    "\n",
    "Nun kann die Berechnung mithilfe der Zellenmethode erfolgen. Die resultierenden Apparateaustrittstemperaturen sind in der Eigenschaft `temperature_matrix` gespeichert, während diejenigen des Netzwerks in der Eigenschaft `temperature_outputs` vorliegen. Dabei wird jeweils ein Tupel erstens mit den dimensionslosen und zweitens mit den dimensionsbehafteten Temperaturen ausgegeben.\n",
    "\n",
    "Die Netzwerkcharakteristik ist durch die Eigenschaft `network_characteristics` gegeben.\n",
    "\n",
    "Es ist zu beachten, dass die Zellenmethode selbst keine Informationen zur Strömungsführung verwendet und die Betriebscharakteristik jedes einzelnen Apparats bekannt sein muss. Daher ist auch keine automatische Anpassung der Parameter möglich.\n"
   ]
  },
  {
   "cell_type": "markdown",
   "metadata": {},
   "source": [
    "## Wärmeübertragerschaltung mit Stromteilung\n",
    "\n",
    "Von einem Wärmeübertragungsnetzwerk, wie in der folgenden Abbildung dargestellt, sind die Eintrittstemperaturen und die Betriebscharakteristiken der einzelnen Apparate bekannt.\n",
    "\n",
    "- $T'_{h1}=373 K$\n",
    "- $T'_{h2}=405 K$\n",
    "- $T'_k=293 K$\n",
    "\n",
    "\n",
    "- $\\Phi_{h1}=0.8$, $\\Phi_{k1}=0.6$\n",
    "- $\\Phi_{h2}=0.6$, $\\Phi_{k2}=0.6$\n",
    "- $\\Phi_{h3}=0.76$, $\\Phi_{k3}=0.76$\n",
    "- $\\Phi_{h4}=0.64$, $\\Phi_{k4}=0.16$\n",
    "\n",
    "![heatexchanger_splitflow](./images/heatexchanger_splitflow.PNG)"
   ]
  },
  {
   "cell_type": "code",
   "execution_count": 87,
   "metadata": {},
   "outputs": [],
   "source": [
    "# defining Flows (mass flow irrelevant for following calculations)\n",
    "flow_h1 = Flow(Fluid(\"Water\", temperature=373), 1)\n",
    "flow_h2 = Flow(Fluid(\"Water\", temperature=405), 1)\n",
    "flow_k = Flow(Fluid(\"Water\", temperature=293), 1)\n",
    "flows = [flow_h1, flow_h2, flow_k]"
   ]
  },
  {
   "cell_type": "code",
   "execution_count": 88,
   "metadata": {},
   "outputs": [],
   "source": [
    "network = ExchangerNetwork(flows)\n",
    "network.phi_matrix = np.array([[0.2, 0., 0., 0., 0.8, 0., 0., 0.],\n",
    "                               [0., 0.4, 0., 0., 0., 0.6, 0., 0.],\n",
    "                               [0., 0., 0.24, 0., 0., 0., 0.76, 0.],\n",
    "                               [0., 0., 0., 0.36, 0., 0., 0., 0.64],\n",
    "                               [0.6, 0., 0., 0., 0.4, 0., 0., 0.],\n",
    "                               [0., 0.6, 0., 0., 0., 0.4, 0., 0.],\n",
    "                               [0., 0., 0.76, 0., 0., 0., 0.24, 0.],\n",
    "                               [0., 0., 0., 0.16, 0., 0., 0., 0.84]])\n",
    "network.structure_matrix = np.array([[0., 1., 0., 0., 0., 0., 0., 0.],\n",
    "                                     [0., 0., 0., 0., 0., 0., 0., 0.],\n",
    "                                     [0., 0., 0., 1., 0., 0., 0., 0.],\n",
    "                                     [0., 0., 0., 0., 0., 0., 0., 0.],\n",
    "                                     [0., 0., 0., 0., 0., 0., 0., 0.],\n",
    "                                     [0., 0., 0., 0., 1, 0., 0., 0.],\n",
    "                                     [0., 0., 0., 0., 1, 0., 0., 0.],\n",
    "                                     [0., 0., 0., 0., 0., 0.75, 0.25, 0.]])\n",
    "network.input_matrix = np.array([[0, 0, 0],\n",
    "                                 [1, 0, 0],\n",
    "                                 [0, 0, 0],\n",
    "                                 [0, 1, 0],\n",
    "                                 [0, 0, 1],\n",
    "                                 [0, 0, 0],\n",
    "                                 [0, 0, 0],\n",
    "                                 [0, 0, 0]])\n",
    "network.output_matrix = np.asarray([[1, 0, 0, 0, 0, 0, 0, 0],\n",
    "                                    [0, 0, 1, 0, 0, 0, 0, 0],\n",
    "                                    [0, 0, 0, 0, 0, 0, 0, 1]])"
   ]
  },
  {
   "cell_type": "markdown",
   "metadata": {},
   "source": [
    "Die Austrittstemperaturen der einzelnen Apperate ergibt sich zu:"
   ]
  },
  {
   "cell_type": "code",
   "execution_count": 89,
   "metadata": {},
   "outputs": [
    {
     "data": {
      "text/plain": [
       "array([[303.],\n",
       "       [343.],\n",
       "       [335.],\n",
       "       [373.],\n",
       "       [323.],\n",
       "       [353.],\n",
       "       [361.],\n",
       "       [363.]])"
      ]
     },
     "execution_count": 89,
     "metadata": {},
     "output_type": "execute_result"
    }
   ],
   "source": [
    "network.temperature_matrix[1]"
   ]
  },
  {
   "cell_type": "markdown",
   "metadata": {},
   "source": [
    "und des Netzwerks:"
   ]
  },
  {
   "cell_type": "code",
   "execution_count": 90,
   "metadata": {},
   "outputs": [
    {
     "data": {
      "text/plain": [
       "array([[303.],\n",
       "       [335.],\n",
       "       [363.]])"
      ]
     },
     "execution_count": 90,
     "metadata": {},
     "output_type": "execute_result"
    }
   ],
   "source": [
    "network.temperature_outputs[1]"
   ]
  },
  {
   "cell_type": "markdown",
   "metadata": {},
   "source": [
    "Die Schaltungscharakteristik wird ruch folgende Matrix beschrieben:"
   ]
  },
  {
   "cell_type": "code",
   "execution_count": 91,
   "metadata": {},
   "outputs": [
    {
     "data": {
      "text/plain": [
       "array([[0.125     , 0.        , 0.875     ],\n",
       "       [0.38729508, 0.09836066, 0.51434426],\n",
       "       [0.55942623, 0.22540984, 0.21516393]])"
      ]
     },
     "execution_count": 91,
     "metadata": {},
     "output_type": "execute_result"
    }
   ],
   "source": [
    "network.network_characteristics"
   ]
  },
  {
   "cell_type": "markdown",
   "metadata": {},
   "source": [
    "## Doppelrohr-Wärmeubertragers mit drei Strängen\n",
    "\n",
    "Von einem Wärmeübertragungsnetzwerk, wie in der folgenden Abbildung dargestellt, sind die Eintrittstemperaturen und die Betriebscharakteristiken der einzelnen Apparate bekannt.\n",
    "\n",
    "![heatexchanger_splitflow](./images/heatexchanger_doubletube.PNG)\n",
    "\n",
    "Der Fluidstrom 1 ist ein Thermofluid mit der Eintrittstemperatur von $120 °C$ und einem sich gleichmäßig aufteilenden Massenstrom von $m_1 = 0.18$ kg/s\n",
    "Der 2 Fluidstrom wird durch Wasser mit einer Eintrittstemperatur von $15 °C$ und einem Massenstrom von $m_2 = 0.33$ kg/s representiert.\n",
    "\n",
    "Für die Betriebscharkateristk wder einzelnen Durchgänge werden folgende Werte angenommen\n",
    "\n",
    "- $\\Phi_{11}=0.608$, $\\Phi_{21}=0.048$\n",
    "- $\\Phi_{12}=0.597$, $\\Phi_{22}=0.047$\n",
    "- $\\Phi_{13}=0.605$, $\\Phi_{23}=0.048$\n"
   ]
  },
  {
   "cell_type": "code",
   "execution_count": 92,
   "metadata": {},
   "outputs": [],
   "source": [
    "mass_flow_1 = 0.18\n",
    "fluid_1 = Fluid(\"nHeptane\", temperature=273.15 + 120)\n",
    "flow_11 = Flow(fluid_1.clone(),mass_flow_1/3)\n",
    "flow_12 = Flow(fluid_1.clone(),mass_flow_1/3)\n",
    "flow_13 = Flow(fluid_1.clone(),mass_flow_1/3)\n",
    "\n",
    "flow_2 = Flow(Fluid(\"Water\", temperature=273.15 + 15), 0.33)\n",
    "flows = [flow_11, flow_12, flow_13, flow_2]"
   ]
  },
  {
   "cell_type": "code",
   "execution_count": 93,
   "metadata": {},
   "outputs": [],
   "source": [
    "network = ExchangerNetwork(flows)\n",
    "network.phi_matrix = np.array([[0.392, 0., 0., 0.608, 0., 0.],\n",
    "                               [0., 0.403, 0., 0., 0.597, 0.],\n",
    "                               [0., 0., 0.395, 0., 0., 0.605],\n",
    "                               [0.048, 0., 0., 0.952, 0., 0.],\n",
    "                               [0., 0.047, 0., 0., 0.953, 0.],\n",
    "                               [0., 0., 0.048, 0., 0., 0.952]])\n",
    "network.structure_matrix = np.array([[0., 0., 0., 0., 0., 0.],\n",
    "                                     [0., 0., 0., 0., 0., 0.],\n",
    "                                     [0., 0., 0., 0., 0., 0.],\n",
    "                                     [0., 0., 0., 0., 0., 0.],\n",
    "                                     [0., 0., 0., 1., 0., 0.],\n",
    "                                     [0., 0., 0., 0., 1., 0.]])\n",
    "network.input_matrix = np.array([[1, 0, 0, 0],\n",
    "                                 [0, 1, 0, 0],\n",
    "                                 [0, 0, 1, 0],\n",
    "                                 [0, 0, 0, 1],\n",
    "                                 [0, 0, 0, 0],\n",
    "                                 [0, 0, 0, 0]])\n",
    "network.output_matrix = np.asarray([[1, 0, 0, 0, 0, 0],\n",
    "                                    [0, 1, 0, 0, 0, 0],\n",
    "                                    [0, 0, 1, 0, 0, 0],\n",
    "                                    [0, 0, 0, 0, 0, 1]])"
   ]
  },
  {
   "cell_type": "markdown",
   "metadata": {},
   "source": [
    "Die einzelnen Austritstemperaturen sind somit:"
   ]
  },
  {
   "cell_type": "code",
   "execution_count": 94,
   "metadata": {},
   "outputs": [
    {
     "data": {
      "text/plain": [
       "array([[56.16      ],\n",
       "       [60.32388   ],\n",
       "       [62.3665626 ],\n",
       "       [29.31069024]])"
      ]
     },
     "execution_count": 94,
     "metadata": {},
     "output_type": "execute_result"
    }
   ],
   "source": [
    "network.temperature_outputs[1]-273.15"
   ]
  },
  {
   "cell_type": "markdown",
   "metadata": {},
   "source": [
    "Wird der Fluidstrom 1 wieder vermischt ergibt sich eine Temperatur von $59.62 °C$. und für den zweiten Fluidstrom $29.31 °C$"
   ]
  },
  {
   "cell_type": "markdown",
   "metadata": {},
   "source": [
    "Alternativ könnte auch die Outputmatrix für das gesamte Netzwerk defniert werden und die Vermischung bereits im Netzwerkaustritt berücksichtigt werden."
   ]
  },
  {
   "cell_type": "code",
   "execution_count": 95,
   "metadata": {},
   "outputs": [],
   "source": [
    "network.output_matrix = np.asarray([[1 / 3, 1 / 3, 1 / 3, 0, 0, 0],\n",
    "                                    [0, 0, 0, 0, 0, 1]])"
   ]
  },
  {
   "cell_type": "markdown",
   "metadata": {},
   "source": [
    "Somit ergeben sich wiederum die gleichen Fluidstromaustrittstemperaturen des gesamten Netzwerks"
   ]
  },
  {
   "cell_type": "code",
   "execution_count": 96,
   "metadata": {},
   "outputs": [
    {
     "data": {
      "text/plain": [
       "array([[59.6168142 ],\n",
       "       [29.31069024]])"
      ]
     },
     "execution_count": 96,
     "metadata": {},
     "output_type": "execute_result"
    }
   ],
   "source": [
    "network.temperature_outputs[1]-273.15"
   ]
  }
 ],
 "metadata": {
  "kernelspec": {
   "display_name": "env_bachelorarbeit",
   "language": "python",
   "name": "python3"
  },
  "language_info": {
   "codemirror_mode": {
    "name": "ipython",
    "version": 3
   },
   "file_extension": ".py",
   "mimetype": "text/x-python",
   "name": "python",
   "nbconvert_exporter": "python",
   "pygments_lexer": "ipython3",
   "version": "3.11.4"
  },
  "orig_nbformat": 4
 },
 "nbformat": 4,
 "nbformat_minor": 2
}
