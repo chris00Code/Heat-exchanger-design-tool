{
 "cells": [
  {
   "cell_type": "code",
   "execution_count": 682,
   "metadata": {},
   "outputs": [],
   "source": [
    "import networkx as nx\n",
    "import matplotlib.pyplot as plt\n",
    "import numpy as np\n",
    "from numpy import exp\n",
    "from numpy.linalg import inv"
   ]
  },
  {
   "cell_type": "code",
   "execution_count": 683,
   "metadata": {},
   "outputs": [],
   "source": [
    "class ExNode:\n",
    "    def __init__(self, name, par):\n",
    "        self.name = name\n",
    "        self.par = par"
   ]
  },
  {
   "cell_type": "code",
   "execution_count": 684,
   "metadata": {},
   "outputs": [],
   "source": [
    "n1 = ExNode(\"A\", 1)\n",
    "n2 = ExNode(\"B\", 2)\n",
    "n3 = ExNode(\"C\", 2)\n",
    "n4 = ExNode(\"D\", 2)\n",
    "i1 = ExNode(\"Input1\", 1)\n",
    "i2 = ExNode(\"Input2\", 2)\n"
   ]
  },
  {
   "cell_type": "code",
   "execution_count": 685,
   "metadata": {},
   "outputs": [],
   "source": [
    "nodes = [n4, n3, n2, n1]\n",
    "inputs = [i1, i2]\n",
    "path1 = [(n3, n2), (n2, n1), (n1, n4),(i1,n3)]\n",
    "path2 = [(n1, n2), (n2, n3), (n3, n4),(i2,n1)]"
   ]
  },
  {
   "cell_type": "code",
   "execution_count": 686,
   "metadata": {},
   "outputs": [
    {
     "name": "stdout",
     "output_type": "stream",
     "text": [
      "Adjazenzmatrix für den ersten Pfad:\n",
      "[[0 0 0 0]\n",
      " [0 0 1 0]\n",
      " [0 0 0 1]\n",
      " [1 0 0 0]]\n",
      "[[0 0 0 0 1 0]\n",
      " [0 0 0 0 0 0]\n",
      " [0 0 0 0 0 1]\n",
      " [0 0 1 0 0 0]\n",
      " [0 0 0 1 0 0]\n",
      " [0 0 0 0 0 0]]\n"
     ]
    }
   ],
   "source": [
    "# Erster Pfad\n",
    "G1 = nx.DiGraph()\n",
    "G1.add_nodes_from(inputs)\n",
    "G1.add_edges_from(path1)\n",
    "adj_matrix1 = nx.adjacency_matrix(G1, nodelist=nodes).todense()\n",
    "# Anzeigen der Adjazenzmatrizen\n",
    "print(\"Adjazenzmatrix für den ersten Pfad:\")\n",
    "print(adj_matrix1)\n",
    "\n",
    "ad_1 = nx.adjacency_matrix(G1,nodelist=[i1,i2,n1,n2,n3,n4]).todense()\n",
    "print(ad_1)\n"
   ]
  },
  {
   "cell_type": "code",
   "execution_count": 687,
   "metadata": {},
   "outputs": [
    {
     "data": {
      "text/plain": [
       "array([[0, 0, 1, 0],\n",
       "       [0, 0, 0, 0]], dtype=int32)"
      ]
     },
     "execution_count": 687,
     "metadata": {},
     "output_type": "execute_result"
    }
   ],
   "source": [
    "S11 = ad_1[2:,2:]\n",
    "Inp1 = ad_1[:2,2:]\n",
    "Inp1"
   ]
  },
  {
   "cell_type": "code",
   "execution_count": 688,
   "metadata": {},
   "outputs": [
    {
     "name": "stdout",
     "output_type": "stream",
     "text": [
      "Adjazenzmatrix für den ersten Pfad:\n",
      "[[0 0 0 0]\n",
      " [1 0 0 0]\n",
      " [0 1 0 0]\n",
      " [0 0 1 0]]\n",
      "[[0 0 0 0 0 0]\n",
      " [0 0 1 0 0 0]\n",
      " [0 0 0 1 0 0]\n",
      " [0 0 0 0 1 0]\n",
      " [0 0 0 0 0 1]\n",
      " [0 0 0 0 0 0]]\n"
     ]
    }
   ],
   "source": [
    "# Erster Pfad\n",
    "G2 = nx.DiGraph()\n",
    "G2.add_nodes_from(inputs)\n",
    "G2.add_edges_from(path2)\n",
    "adj_matrix2 = nx.adjacency_matrix(G2, nodelist=nodes).todense()\n",
    "# Anzeigen der Adjazenzmatrizen\n",
    "print(\"Adjazenzmatrix für den ersten Pfad:\")\n",
    "print(adj_matrix2)\n",
    "\n",
    "ad_2 = nx.adjacency_matrix(G2,nodelist=[i1,i2,n1,n2,n3,n4]).todense()\n",
    "print(ad_2)"
   ]
  },
  {
   "cell_type": "code",
   "execution_count": 689,
   "metadata": {},
   "outputs": [
    {
     "data": {
      "text/plain": [
       "array([[0, 0, 0, 0],\n",
       "       [1, 0, 0, 0]], dtype=int32)"
      ]
     },
     "execution_count": 689,
     "metadata": {},
     "output_type": "execute_result"
    }
   ],
   "source": [
    "S22 = ad_2[2:,2:]\n",
    "Inp2 = ad_2[:2,2:]\n",
    "Inp2"
   ]
  },
  {
   "cell_type": "code",
   "execution_count": 690,
   "metadata": {},
   "outputs": [],
   "source": [
    "def get_NTU(kA,W):\n",
    "    return kA/W\n",
    "def get_R(W1,W2):\n",
    "    return W1/W2, W2/W1\n",
    "def get_Phi(Phi1,Phi2):\n",
    "    I1 =np.eye(Phi1.shape[0])\n",
    "    I2 = np.eye(Phi2.shape[0])\n",
    "    return np.block([[I1-Phi1,Phi1],[Phi2,I2-Phi2]])\n",
    "def get_S(S11,S12,S21,S22):\n",
    "    return np.block([[S11,S12],[S21,S22]]).T\n",
    "def get_Inp(Inp1,Inp2):\n",
    "    return np.hstack((Inp1, Inp2)).T\n",
    "def get_T_o(Phi,S,Inp,T_I):\n",
    "    PS = Phi@S\n",
    "    I = np.eye(PS.shape[0])\n",
    "    return inv((I-PS))@Phi@Inp@T_I\n",
    "def get_Out(Out1,Out2):\n",
    "    I1 = np.zeros_like(Out1)\n",
    "    I2 = np.zeros_like(Out2)\n",
    "    return np.block([[Out1,I1],[I2,Out2]])\n",
    "def to_theta(T,theta1_i,theta2_i):\n",
    "    return (theta1_i-theta2_i)*T+theta2_i\n",
    "def plot_theta(theta_o):\n",
    "    return None\n",
    "def plot_matrix(m):\n",
    "    fig, ax = plt.subplots()\n",
    "    im = ax.imshow(m)\n",
    "\n",
    "    fig.tight_layout()\n",
    "    plt.show()"
   ]
  },
  {
   "cell_type": "code",
   "execution_count": 691,
   "metadata": {},
   "outputs": [
    {
     "data": {
      "text/plain": [
       "0.3392142857142857"
      ]
     },
     "metadata": {},
     "output_type": "display_data"
    },
    {
     "data": {
      "text/plain": [
       "0.3392142857142857"
      ]
     },
     "metadata": {},
     "output_type": "display_data"
    },
    {
     "data": {
      "text/plain": [
       "1.0"
      ]
     },
     "metadata": {},
     "output_type": "display_data"
    },
    {
     "data": {
      "text/plain": [
       "1.0"
      ]
     },
     "metadata": {},
     "output_type": "display_data"
    },
    {
     "data": {
      "text/plain": [
       "0.25"
      ]
     },
     "metadata": {},
     "output_type": "display_data"
    },
    {
     "data": {
      "text/plain": [
       "0.25"
      ]
     },
     "metadata": {},
     "output_type": "display_data"
    },
    {
     "data": {
      "text/plain": [
       "array([[0.75, 0.  , 0.  , 0.  , 0.25, 0.  , 0.  , 0.  ],\n",
       "       [0.  , 0.75, 0.  , 0.  , 0.  , 0.25, 0.  , 0.  ],\n",
       "       [0.  , 0.  , 0.75, 0.  , 0.  , 0.  , 0.25, 0.  ],\n",
       "       [0.  , 0.  , 0.  , 0.75, 0.  , 0.  , 0.  , 0.25],\n",
       "       [0.25, 0.  , 0.  , 0.  , 0.75, 0.  , 0.  , 0.  ],\n",
       "       [0.  , 0.25, 0.  , 0.  , 0.  , 0.75, 0.  , 0.  ],\n",
       "       [0.  , 0.  , 0.25, 0.  , 0.  , 0.  , 0.75, 0.  ],\n",
       "       [0.  , 0.  , 0.  , 0.25, 0.  , 0.  , 0.  , 0.75]])"
      ]
     },
     "metadata": {},
     "output_type": "display_data"
    }
   ],
   "source": [
    "kA = 4749\n",
    "W1 = 3500\n",
    "theta1_i = 100\n",
    "W2 = 3500\n",
    "theta2_i = 20\n",
    "NTU1 = get_NTU(kA,W1)\n",
    "NTU1j = NTU1/4\n",
    "NTU2 = get_NTU(kA,W2)\n",
    "NTU2j = NTU2/4\n",
    "display(NTU1j,NTU2j)\n",
    "R1, R2 = get_R(W1,W2)\n",
    "display(R1,R2)\n",
    "P1j = round(1-exp((exp(-R1*NTU1j)-1)/R1),4)\n",
    "P2j = round(1-exp((exp(-R2*NTU2j)-1)/R2),4)\n",
    "display(P1j,P2j)\n",
    "Phi1 = P1j*np.eye(4)\n",
    "Phi2 = P2j*np.eye(4)\n",
    "Phi = get_Phi(Phi1,Phi2)\n",
    "display(Phi)\n"
   ]
  },
  {
   "cell_type": "code",
   "execution_count": 692,
   "metadata": {},
   "outputs": [
    {
     "data": {
      "text/plain": [
       "array([[0., 1., 0., 0., 0., 0., 0., 0.],\n",
       "       [0., 0., 1., 0., 0., 0., 0., 0.],\n",
       "       [0., 0., 0., 0., 0., 0., 0., 0.],\n",
       "       [1., 0., 0., 0., 0., 0., 0., 0.],\n",
       "       [0., 0., 0., 0., 0., 0., 0., 0.],\n",
       "       [0., 0., 0., 0., 1., 0., 0., 0.],\n",
       "       [0., 0., 0., 0., 0., 1., 0., 0.],\n",
       "       [0., 0., 0., 0., 0., 0., 1., 0.]])"
      ]
     },
     "execution_count": 692,
     "metadata": {},
     "output_type": "execute_result"
    }
   ],
   "source": [
    "S12 = np.zeros((4,4))\n",
    "S21 = np.zeros((4,4))\n",
    "S=get_S(S11,S12,S21,S22)\n",
    "S"
   ]
  },
  {
   "cell_type": "code",
   "execution_count": 693,
   "metadata": {},
   "outputs": [
    {
     "data": {
      "text/plain": [
       "array([[0, 0],\n",
       "       [0, 0],\n",
       "       [1, 0],\n",
       "       [0, 0],\n",
       "       [0, 1],\n",
       "       [0, 0],\n",
       "       [0, 0],\n",
       "       [0, 0]], dtype=int32)"
      ]
     },
     "execution_count": 693,
     "metadata": {},
     "output_type": "execute_result"
    }
   ],
   "source": [
    "Inp = get_Inp(Inp1,Inp2)\n",
    "Inp"
   ]
  },
  {
   "cell_type": "code",
   "execution_count": 694,
   "metadata": {},
   "outputs": [
    {
     "data": {
      "text/plain": [
       "array([[1],\n",
       "       [0]])"
      ]
     },
     "execution_count": 694,
     "metadata": {},
     "output_type": "execute_result"
    }
   ],
   "source": [
    "T_I = np.array([[1],[0]])\n",
    "T_I"
   ]
  },
  {
   "cell_type": "code",
   "execution_count": 695,
   "metadata": {},
   "outputs": [
    {
     "data": {
      "text/plain": [
       "array([[0.5       ],\n",
       "       [0.66666667],\n",
       "       [0.83333333],\n",
       "       [0.5       ],\n",
       "       [0.16666667],\n",
       "       [0.33333333],\n",
       "       [0.5       ],\n",
       "       [0.5       ]])"
      ]
     },
     "execution_count": 695,
     "metadata": {},
     "output_type": "execute_result"
    }
   ],
   "source": [
    "T_o = get_T_o(Phi,S,Inp,T_I)\n",
    "T_o"
   ]
  },
  {
   "cell_type": "markdown",
   "metadata": {},
   "source": [
    "Strelow"
   ]
  },
  {
   "cell_type": "code",
   "execution_count": 696,
   "metadata": {},
   "outputs": [],
   "source": [
    "n1 = ExNode(\"A\", 1)\n",
    "n2 = ExNode(\"B\", 2)\n",
    "n3 = ExNode(\"C\", 2)\n",
    "n4 = ExNode(\"D\", 2)\n",
    "i11 = ExNode(\"Input1\", 1)\n",
    "i12 = ExNode(\"Input2\", 2)\n",
    "i3 = ExNode(\"Input3\",1)"
   ]
  },
  {
   "cell_type": "code",
   "execution_count": 697,
   "metadata": {},
   "outputs": [],
   "source": [
    "nodes = [n1,n2,n3,n4]\n",
    "inputs = [i11, i12,i2]\n",
    "all_nodes = np.hstack((inputs,nodes))\n",
    "path1 = [(n2, n1),(n4,n3),(i11,n2),(i12,n4)]\n",
    "#path2 = [(n1, n2,{'weight': 0.75}), (n1, n3,{'weight': 0.25}), (n2, n4),(n3,n4),(i2,n1)]\n",
    "path2 = [(n1, n2,{'weight': 1}), (n1, n3,{'weight': 1}), (n2, n4,{'weight': 0.75}),(n3,n4,{'weight': 0.25}),(i2,n1)]"
   ]
  },
  {
   "cell_type": "code",
   "execution_count": 698,
   "metadata": {},
   "outputs": [
    {
     "name": "stdout",
     "output_type": "stream",
     "text": [
      "Adjazenzmatrix für den ersten Pfad:\n",
      "[[0 0 0 0]\n",
      " [1 0 0 0]\n",
      " [0 0 0 0]\n",
      " [0 0 1 0]]\n",
      "[[0 0 0 0 1 0 0]\n",
      " [0 0 0 0 0 0 1]\n",
      " [0 0 0 0 0 0 0]\n",
      " [0 0 0 0 0 0 0]\n",
      " [0 0 0 1 0 0 0]\n",
      " [0 0 0 0 0 0 0]\n",
      " [0 0 0 0 0 1 0]]\n",
      "Adjazenzmatrix für den ersten Pfad:\n",
      "[[0.   1.   1.   0.  ]\n",
      " [0.   0.   0.   0.75]\n",
      " [0.   0.   0.   0.25]\n",
      " [0.   0.   0.   0.  ]]\n",
      "[[0.   0.   0.   0.   0.   0.   0.  ]\n",
      " [0.   0.   0.   0.   0.   0.   0.  ]\n",
      " [0.   0.   0.   1.   0.   0.   0.  ]\n",
      " [0.   0.   0.   0.   1.   1.   0.  ]\n",
      " [0.   0.   0.   0.   0.   0.   0.75]\n",
      " [0.   0.   0.   0.   0.   0.   0.25]\n",
      " [0.   0.   0.   0.   0.   0.   0.  ]]\n"
     ]
    }
   ],
   "source": [
    "# Erster Pfad\n",
    "G1 = nx.DiGraph()\n",
    "G1.add_nodes_from(inputs)\n",
    "G1.add_nodes_from(nodes)\n",
    "G1.add_edges_from(path1)\n",
    "adj_matrix1 = nx.adjacency_matrix(G1, nodelist=nodes).todense()\n",
    "# Anzeigen der Adjazenzmatrizen\n",
    "print(\"Adjazenzmatrix für den ersten Pfad:\")\n",
    "print(adj_matrix1)\n",
    "\n",
    "ad_1 = nx.adjacency_matrix(G1,nodelist=all_nodes).todense()\n",
    "print(ad_1)\n",
    "\n",
    "\n",
    "# zweiter Pfad\n",
    "G2 = nx.DiGraph()\n",
    "G2.add_nodes_from(inputs)\n",
    "G2.add_nodes_from(nodes)\n",
    "G2.add_edges_from(path2)\n",
    "adj_matrix2 = nx.adjacency_matrix(G2, nodelist=nodes).todense()\n",
    "# Anzeigen der Adjazenzmatrizen\n",
    "print(\"Adjazenzmatrix für den ersten Pfad:\")\n",
    "print(adj_matrix2)\n",
    "\n",
    "ad_2 = nx.adjacency_matrix(G2,nodelist=all_nodes).todense()\n",
    "print(ad_2)\n",
    "\n"
   ]
  },
  {
   "cell_type": "code",
   "execution_count": 699,
   "metadata": {},
   "outputs": [
    {
     "data": {
      "text/plain": [
       "array([[0, 0, 0, 0],\n",
       "       [1, 0, 0, 0],\n",
       "       [0, 0, 0, 0],\n",
       "       [0, 0, 1, 0]], dtype=int32)"
      ]
     },
     "metadata": {},
     "output_type": "display_data"
    },
    {
     "data": {
      "text/plain": [
       "array([[0, 1, 0, 0],\n",
       "       [0, 0, 0, 1],\n",
       "       [0, 0, 0, 0]], dtype=int32)"
      ]
     },
     "metadata": {},
     "output_type": "display_data"
    }
   ],
   "source": [
    "S11 = ad_1[3:,3:]\n",
    "Inp1 = ad_1[:3,3:]\n",
    "display(S11,Inp1)"
   ]
  },
  {
   "cell_type": "code",
   "execution_count": 700,
   "metadata": {},
   "outputs": [
    {
     "data": {
      "text/plain": [
       "array([[0.  , 1.  , 1.  , 0.  ],\n",
       "       [0.  , 0.  , 0.  , 0.75],\n",
       "       [0.  , 0.  , 0.  , 0.25],\n",
       "       [0.  , 0.  , 0.  , 0.  ]])"
      ]
     },
     "metadata": {},
     "output_type": "display_data"
    },
    {
     "data": {
      "text/plain": [
       "array([[0., 0., 0., 0.],\n",
       "       [0., 0., 0., 0.],\n",
       "       [1., 0., 0., 0.]])"
      ]
     },
     "metadata": {},
     "output_type": "display_data"
    }
   ],
   "source": [
    "S22 = ad_2[3:,3:]\n",
    "Inp2 = ad_2[:3,3:]\n",
    "display(S22,Inp2)"
   ]
  },
  {
   "cell_type": "code",
   "execution_count": 701,
   "metadata": {},
   "outputs": [
    {
     "data": {
      "text/plain": [
       "matrix([[0.2 , 0.  , 0.  , 0.  , 0.8 , 0.  , 0.  , 0.  ],\n",
       "        [0.  , 0.4 , 0.  , 0.  , 0.  , 0.6 , 0.  , 0.  ],\n",
       "        [0.  , 0.  , 0.24, 0.  , 0.  , 0.  , 0.76, 0.  ],\n",
       "        [0.  , 0.  , 0.  , 0.36, 0.  , 0.  , 0.  , 0.64],\n",
       "        [0.6 , 0.  , 0.  , 0.  , 0.4 , 0.  , 0.  , 0.  ],\n",
       "        [0.  , 0.6 , 0.  , 0.  , 0.  , 0.4 , 0.  , 0.  ],\n",
       "        [0.  , 0.  , 0.76, 0.  , 0.  , 0.  , 0.24, 0.  ],\n",
       "        [0.  , 0.  , 0.  , 0.16, 0.  , 0.  , 0.  , 0.84]])"
      ]
     },
     "metadata": {},
     "output_type": "display_data"
    }
   ],
   "source": [
    "theta1_i1 = 373\n",
    "theta1_i2= 405\n",
    "theta2_i = 293\n",
    "Phi1 = np.matrix([[0.8,0,0,0],[0,0.6,0,0],[0,0,0.76,0],[0,0,0,0.64]])\n",
    "Phi2 = np.matrix([[0.6,0,0,0],[0,0.6,0,0],[0,0,0.76,0],[0,0,0,0.16]])\n",
    "Phi = get_Phi(Phi1,Phi2)\n",
    "display(Phi)\n"
   ]
  },
  {
   "cell_type": "code",
   "execution_count": 702,
   "metadata": {},
   "outputs": [
    {
     "data": {
      "text/plain": [
       "array([[0.  , 1.  , 0.  , 0.  , 0.  , 0.  , 0.  , 0.  ],\n",
       "       [0.  , 0.  , 0.  , 0.  , 0.  , 0.  , 0.  , 0.  ],\n",
       "       [0.  , 0.  , 0.  , 1.  , 0.  , 0.  , 0.  , 0.  ],\n",
       "       [0.  , 0.  , 0.  , 0.  , 0.  , 0.  , 0.  , 0.  ],\n",
       "       [0.  , 0.  , 0.  , 0.  , 0.  , 0.  , 0.  , 0.  ],\n",
       "       [0.  , 0.  , 0.  , 0.  , 1.  , 0.  , 0.  , 0.  ],\n",
       "       [0.  , 0.  , 0.  , 0.  , 1.  , 0.  , 0.  , 0.  ],\n",
       "       [0.  , 0.  , 0.  , 0.  , 0.  , 0.75, 0.25, 0.  ]])"
      ]
     },
     "execution_count": 702,
     "metadata": {},
     "output_type": "execute_result"
    }
   ],
   "source": [
    "S12 = np.zeros((4,4))\n",
    "S21 = np.zeros((4,4))\n",
    "S=get_S(S11,S12,S21,S22)\n",
    "S"
   ]
  },
  {
   "cell_type": "code",
   "execution_count": 703,
   "metadata": {},
   "outputs": [
    {
     "data": {
      "text/plain": [
       "array([[0., 0., 0.],\n",
       "       [1., 0., 0.],\n",
       "       [0., 0., 0.],\n",
       "       [0., 1., 0.],\n",
       "       [0., 0., 1.],\n",
       "       [0., 0., 0.],\n",
       "       [0., 0., 0.],\n",
       "       [0., 0., 0.]])"
      ]
     },
     "execution_count": 703,
     "metadata": {},
     "output_type": "execute_result"
    }
   ],
   "source": [
    "Inp = get_Inp(Inp1,Inp2)\n",
    "Inp"
   ]
  },
  {
   "cell_type": "code",
   "execution_count": 704,
   "metadata": {},
   "outputs": [
    {
     "data": {
      "text/plain": [
       "matrix([[303.],\n",
       "        [343.],\n",
       "        [335.],\n",
       "        [373.],\n",
       "        [323.],\n",
       "        [353.],\n",
       "        [361.],\n",
       "        [363.]])"
      ]
     },
     "execution_count": 704,
     "metadata": {},
     "output_type": "execute_result"
    }
   ],
   "source": [
    "T_I = np.array([[373],[405],[293]])\n",
    "T_o = get_T_o(Phi,S,Inp,T_I)\n",
    "T_o"
   ]
  }
 ],
 "metadata": {
  "kernelspec": {
   "display_name": "env_bachelorarbeit",
   "language": "python",
   "name": "python3"
  },
  "language_info": {
   "codemirror_mode": {
    "name": "ipython",
    "version": 3
   },
   "file_extension": ".py",
   "mimetype": "text/x-python",
   "name": "python",
   "nbconvert_exporter": "python",
   "pygments_lexer": "ipython3",
   "version": "3.11.4"
  },
  "orig_nbformat": 4
 },
 "nbformat": 4,
 "nbformat_minor": 2
}
